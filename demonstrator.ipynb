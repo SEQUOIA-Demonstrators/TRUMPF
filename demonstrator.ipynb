{
 "cells": [
  {
   "cell_type": "markdown",
   "source": [
    "# OPTIMAL CUTTING LAYOUTS FOR METAL PARTS MANUFACTURING"
   ],
   "metadata": {
    "collapsed": false,
    "pycharm": {
     "name": "#%% md\n"
    }
   }
  },
  {
   "cell_type": "code",
   "execution_count": 3,
   "outputs": [],
   "source": [
    "%config InlineBackend.figure_format = 'retina'"
   ],
   "metadata": {
    "collapsed": false,
    "pycharm": {
     "name": "#%%\n"
    }
   }
  },
  {
   "cell_type": "markdown",
   "source": [
    "## ABOUT THE USE CASE\n",
    "\n",
    "For producing metal parts, the manufacturing industry uses lasers to cut pre-defined geometric shapes into metal sheets. The goal is to cut all the shapes needed using the smallest possible metal sheet. This allows not only to **reduce material costs** for the producer but also to **reduce the consumption of natural resources and industrial waste**. The problem is not specific to the manufacturing of parts made of metal, but is the same with other materials such as fabric, paper, carton, plastic, glass and ceramics."
   ],
   "metadata": {
    "collapsed": false,
    "pycharm": {
     "name": "#%% md\n"
    }
   }
  },
  {
   "cell_type": "markdown",
   "source": [
    "## FORMAL PROBLEM STATEMENT\n",
    "\n",
    "The problem can be interpreted in several ways, but we will consider one important variant of the problem known as the **2D irregular strip packing problem**. In this case, we assume that:\n",
    "- there are $N$ pieces with polygonal shapes (regular or irregular polygons, convex or not),\n",
    "- there is only one sheet called \"strip\", with rectangular shape, fixed height $H$ and variable length $L$,\n",
    "- all pieces need to be placed into the strip without overlapping,\n",
    "- the pieces can be continuously placed anywhere in the strip and can be rotated, but only a fixed number of rotation angles (e.g. multiples of $45$ degrees) are allowed, and\n",
    "- the length $L$ of the strip must be minimized (material/waste minimization).\n"
   ],
   "metadata": {
    "collapsed": false,
    "pycharm": {
     "name": "#%% md\n"
    }
   }
  },
  {
   "cell_type": "markdown",
   "source": [
    "<div><img src=\"illustration-set-of-pieces.JPG\" width=\"400\"/></div>\n",
    "<div><img src=\"illustration-strip.JPG\" width=\"400\"/></div>\n",
    "<div><img src=\"illustration-layout.JPG\" width=\"400\"/></div>"
   ],
   "metadata": {
    "collapsed": false,
    "pycharm": {
     "name": "#%% md\n"
    }
   }
  },
  {
   "cell_type": "markdown",
   "source": [
    "## IMPORT PYTHON MODULES"
   ],
   "metadata": {
    "collapsed": false,
    "pycharm": {
     "name": "#%% md\n"
    }
   }
  },
  {
   "cell_type": "code",
   "execution_count": 4,
   "outputs": [],
   "source": [
    "from QUANTUM_PACKER import QUANTUM_PACKER\n",
    "from qiskit import Aer\n",
    "from qiskit import IBMQ\n",
    "from PACKING_PROBLEM_DATA_LOADER import PACKING_PROBLEM_DATA_LOADER"
   ],
   "metadata": {
    "collapsed": false,
    "pycharm": {
     "name": "#%%\n"
    }
   }
  },
  {
   "cell_type": "markdown",
   "source": [
    "## IMPORT ONE OF THE PREDEFINED PROBLEM INSTANCES\n",
    "\n",
    "Choose an instance from “PUZZLE1”, “PUZZLE2”, “PUZZLE3” or the standard benchmarks “SHAPES1”, “SHAPES2”, “SHIRTS”, “TROUSERS”, “SWIM” (Oliveira et al., 2000). The variable *pieces* here-after is a list containing the polygons to pack. Each polygon is represented by a list of vertex coordinates $(x,y)$. The height of the strip is defined by the variable $H$."
   ],
   "metadata": {
    "collapsed": false,
    "pycharm": {
     "name": "#%% md\n"
    }
   }
  },
  {
   "cell_type": "code",
   "execution_count": 5,
   "outputs": [
    {
     "name": "stdout",
     "output_type": "stream",
     "text": [
      "For PUZZLE3, the strip's height is fixed to H=1200.\n"
     ]
    }
   ],
   "source": [
    "problem_instance = \"PUZZLE3\"\n",
    "packing_problem_data = PACKING_PROBLEM_DATA_LOADER(problem_instance)\n",
    "pieces = packing_problem_data.pieces\n",
    "H = packing_problem_data.height\n",
    "print(\"For \" + problem_instance + \", the strip's height is fixed to H=\" + str(H) + \".\")"
   ],
   "metadata": {
    "collapsed": false,
    "pycharm": {
     "name": "#%%\n"
    }
   }
  },
  {
   "cell_type": "markdown",
   "source": [
    "## DEFINE A QUANTUM BACKEND FOR EXECUTING QUANTUM ALGORITHMS\n",
    "\n",
    "Leave the fields API_TOKEN_DE and API_URL_DE blank if you do not have access to the IBM Quantum System One located in Ehningen, Germany. If you have access to another backend, you can use it by adapting the code specifying the provider and backend's name. By default, the following code will use the qasm simulator and run it on your PC."
   ],
   "metadata": {
    "collapsed": false,
    "pycharm": {
     "name": "#%% md\n"
    }
   }
  },
  {
   "cell_type": "code",
   "execution_count": 6,
   "outputs": [],
   "source": [
    "API_TOKEN_DE = ''\n",
    "API_URL_DE = ''\n",
    "if API_TOKEN_DE == '' and API_URL_DE == '':\n",
    "    solver_backend = Aer.get_backend('qasm_simulator')\n",
    "else:\n",
    "    IBMQ.enable_account(API_TOKEN_DE, API_URL_DE)\n",
    "    provider = IBMQ.get_provider(hub='fraunhofer-de', group='fhg-all')\n",
    "    solver_backend = provider.get_backend('ibmq_ehningen')"
   ],
   "metadata": {
    "collapsed": false,
    "pycharm": {
     "name": "#%%\n"
    }
   }
  },
  {
   "cell_type": "markdown",
   "source": [
    "## DEFINE ADDITIONALLY A QUANTUM SIMULATOR\n",
    "\n",
    "This will be required for optimizing the QAOA or QAOA+ parameter vectors $\\beta$ and $\\gamma$. Specify also the number of qubits available."
   ],
   "metadata": {
    "collapsed": false,
    "pycharm": {
     "name": "#%% md\n"
    }
   }
  },
  {
   "cell_type": "code",
   "execution_count": 7,
   "outputs": [],
   "source": [
    "num_qubits = 16\n",
    "backend = Aer.get_backend('qasm_simulator')"
   ],
   "metadata": {
    "collapsed": false,
    "pycharm": {
     "name": "#%%\n"
    }
   }
  },
  {
   "cell_type": "markdown",
   "source": [
    "## CREATE A QUANTUM_PACKER FOR SOLVING THE PROBLEM INSTANCE\n",
    "\n",
    "Choose the number of angles of rotations allowed for the pieces, e.g. 0, 2 (0 and 180 degrees), 4 (multiples of 90 degrees), 8 (multiples of 45 degrees) or 16. Specify the number of randomly generated partitions (groups of geometrically compatible pieces), typically between 50 and 500. Set the distance threshold between 0.1 and 0.5, so as to impose an upper limit on the geometrical incompatibility between the pieces in a group. The variable tsp_solver represents the algorithm used to solve the Traveling Salesman Problem (TSP). This can be 'BF' (brute force), 'QAOA' (Quantum Approximate Optimization Algorithm) by (Farhi et al., 2014) or 'QAOA+' (Quantum Alternating Operator Ansatz) by (Hadfield et al., 2019). The maximum cluster size is fixed to $4$ for QAOA and QAOA+, which means that we cannot solve TSP instances with more than 4 cities, since we have only 16 qubits (for the simulator) and solving the TSP with $n$ cities requires solving a QUBO with $n^2$ binary variables or qubits. If you wish to use brute force to solve TSPs, you may increase the max_cluster_size up to $10$ cities."
   ],
   "metadata": {
    "collapsed": false,
    "pycharm": {
     "name": "#%% md\n"
    }
   }
  },
  {
   "cell_type": "code",
   "execution_count": 8,
   "outputs": [],
   "source": [
    "n_rotations = 8\n",
    "n_partitions = 50\n",
    "tsp_solver = 'QAOA'\n",
    "distance_threshold = 0.25\n",
    "max_cluster_size = 4\n",
    "quantum_packer = QUANTUM_PACKER(problem_instance, H, pieces, n_rotations,\n",
    "                                tsp_solver, distance_threshold, max_cluster_size, n_partitions,\n",
    "                                num_qubits, backend, solver_backend)"
   ],
   "metadata": {
    "collapsed": false,
    "pycharm": {
     "name": "#%%\n"
    }
   }
  },
  {
   "cell_type": "markdown",
   "source": [
    "## SHOW THE SET OF PIECES TO PACK"
   ],
   "metadata": {
    "collapsed": false,
    "pycharm": {
     "name": "#%% md\n"
    }
   }
  },
  {
   "cell_type": "code",
   "execution_count": 9,
   "outputs": [
    {
     "data": {
      "text/plain": "<Figure size 432x288 with 1 Axes>",
      "image/png": "[encoded data removed]"
     },
     "metadata": {
      "image/png": {
       "width": 381,
       "height": 263
      },
      "needs_background": "light"
     },
     "output_type": "display_data"
    }
   ],
   "source": [
    "quantum_packer.show_pieces()"
   ],
   "metadata": {
    "collapsed": false,
    "pycharm": {
     "name": "#%%\n"
    }
   }
  },
  {
   "cell_type": "markdown",
   "source": [
    "## A QUANTUM-CLASSICAL HEURISTIC FOR SOLVING THE PACKING PROBLEM\n",
    "\n",
    "The main algorithmic steps are the following ones.\n",
    "\n",
    "### EVALUATE THE GEOMETRICAL COMPATIBILITY BETWEEN PIECES\n",
    "\n",
    "For each pair of pieces, we find the spatial arrangement that minimizes the wasted area between them, relative to the area of their convex hull. The minimal fraction of waste is interpreted as their *geometrical incompatibility* (gi). Considering all pairs of pieces of PUZZLE3, we get a matrix $GI=((gi(P_i,P_j)))$:\n",
    "\n",
    "$$ GI = \\left[ \\begin{array}{rrrrrrrr}\n",
    "0.148 & 0.168 & 0.171 & 0.178 & 0.170 & 0.151 & 0.183 & 0.236 & 0.147 & 0.073 & 0.148 & 0.180 \\\\\n",
    "0.168 & 0.072 & 0.172 & 0.157 & 0.176 & 0.148 & 0.205 & 0.142 & 0.163 & 0.205 & 0.210 & 0.178 \\\\\n",
    "0.171 & 0.172 & 0.098 & 0.151 & 0.165 & 0.181 & 0.208 & 0.109 & 0.163 & 0.209 & 0.147 & 0.162 \\\\\n",
    "0.178 & 0.157 & 0.151 & 0.203 & 0.189 & 0.221 & 0.230 & 0.261 & 0.130 & 0.200 & 0.136 & 0.225 \\\\\n",
    "0.170 & 0.176 & 0.165 & 0.189 & 0.085 & 0.151 & 0.129 & 0.230 & 0.200 & 0.179 & 0.184 & 0.195 \\\\\n",
    "0.151 & 0.148 & 0.181 & 0.221 & 0.151 & 0.143 & 0.182 & 0.278 & 0.169 & 0.150 & 0.206 & 0.225 \\\\\n",
    "0.183 & 0.205 & 0.208 & 0.230 & 0.129 & 0.182 & 0.091 & 0.281 & 0.245 & 0.214 & 0.228 & 0.261 \\\\\n",
    "0.236 & 0.142 & 0.109 & 0.261 & 0.230 & 0.278 & 0.281 & 0.272 & 0.287 & 0.273 & 0.272 & 0.313 \\\\\n",
    "0.147 & 0.163 & 0.163 & 0.130 & 0.200 & 0.169 & 0.245 & 0.287 & 0.146 & 0.214 & 0.240 & 0.212 \\\\\n",
    "0.073 & 0.205 & 0.209 & 0.200 & 0.179 & 0.150 & 0.214 & 0.273 & 0.214 & 0.149 & 0.203 & 0.225 \\\\\n",
    "0.148 & 0.210 & 0.147 & 0.136 & 0.184 & 0.206 & 0.228 & 0.272 & 0.240 & 0.203 & 0.231 & 0.131 \\\\\n",
    "0.180 & 0.178 & 0.162 & 0.225 & 0.195 & 0.225 & 0.261 & 0.313 & 0.212 & 0.225 & 0.131 & 0.154 \\\\\n",
    "\\end{array}\\right] $$\n",
    "\n",
    "### GENERATE GROUPS OF COMPATIBLE PIECES (CLUSTERING)\n",
    "\n",
    "Two pieces are \"compatible\" when their geometrical incompatibility is below a \"distance threshold\" of for instance 0.25. Using a stochastic clustering algorithm, we generate many groups of pieces, such that in each group, every piece is compatible with at least one other piece. Here are some examples obtained for PUZZLE3 containing up to $4$ pieces.\n",
    "$$ \\{P_4, P_6\\}, \\{P_5, P_9\\}, \\{ P_0, P_5, P_9\\}, \\{P_1, P_2, P_7\\}, \\{P_0, P_1, P_2, P_7\\}, \\{ P_3, P_8, P_{10}, P_{11}\\}, \\dotsc$$\n",
    "\n",
    "### ORDER THE PIECES IN EACH CLUSTER TO FORM A \"SHORT\" SEQUENCE [NP-HARD]\n",
    "\n",
    "The pieces in each group are given a sequential order. We want to find a \"short\" sequence $i_1, \\dotsc, i_n$ for each cluster of size $n$, i.e. a sequence with minimum total geometric incompatibility, calculated by summing up the incompatibility between all pairs of successive pieces in the cluster:\n",
    "\n",
    "$$ \\sum_{k=1}^{n-1} \\mathrm{gi}(P_{i_k}, P_{i_{k+1}})$$\n",
    "\n",
    "By treating the geometrical incompatibility between two pieces as the \"distance\" between two \"cities\", this problem becomes equivalent to the Traveling Salesman Problem (TSP): Given a set of $n$ cities $1, \\dotsc, n$, find a route $i_1, \\dotsc, i_n$ for visiting each city exactly once with minimum total travel distance $$\\sum_{k=1}^{n-1} \\mathrm{d}(i_k, i_{k+1})$$\n",
    "\n",
    "The TSP can be formulated as a Quadratic Unconstrained Optimization Problem (Lucas, 2014):\n",
    "- let $x_{i,p} \\in \\{0,1\\}$ be $1$ if the path goes through city $i$ at step $p$\n",
    "- the path goes through $n$ cities iff $\\forall p \\in \\{ 1, \\dotsc, n\\}: \\sum_{i=1}^n x_{i,p} = 1$\n",
    "- each city is visited once iff $\\forall i \\in \\{ 1, \\dotsc, n\\}: \\sum_{p=1}^n x_{i,p} = 1$\n",
    "- the distance to be minimized is $D(x) = \\sum_{i=1}^n \\sum_{j=1}^n d_{i,j} \\sum_{p=1}^{n-1} x_{i,p}x_{j,p+1}$\n",
    "- the TSP is equivalent to minimizing\n",
    "    $$ C(x) = \\sum_{i=1}^n \\sum_{j=1}^n d_{i,j} \\sum_{p=1}^{n-1} x_{i,p}x_{j,p+1} + A \\sum_{p=1}^n \\left( 1 - \\sum_{i=1}^n x_{i,p} \\right)^2 + A \\sum_{i=1}^n \\left( 1 - \\sum_{p=1}^n x_{i,p} \\right)^2 $$\n",
    "as long as the penalty $A$ is large enough ($A > \\max\\{d_{i,j}\\}$). The QUBO can then be solved by Quantum Computing, for instance on a gate-based quantum computer using the Quantum Approximate Optimization Algorithm (QAOA) or the Quantum Alternating Operator Ansatz (QAOA+), or by using a quantum annealer. Note that exact solutions can also be obtain classically by brute force search (BF) for up to $12$ cities. Here are some examples of short sequences obtained with PUZZLE3:\n",
    "- cluster $\\{ 4, 6\\} \\quad \\rightarrow \\quad$ sequence $[4, 6]$\n",
    "- cluster $\\{ 5, 9\\} \\quad \\rightarrow \\quad$ sequence $[5, 9]$\n",
    "- cluster $\\{ 0, 5, 9\\} \\quad \\rightarrow \\quad$ sequence $[0, 9, 5]$\n",
    "- cluster $\\{ 1, 2, 7\\} \\quad \\rightarrow \\quad$ sequence $[2, 7, 1]$\n",
    "- cluster $\\{ 0, 1, 2, 7\\} \\quad \\rightarrow \\quad$ sequence $[2, 7, 1, 0]$\n",
    "- cluster $\\{ 3, 8, 10, 11\\} \\quad \\rightarrow \\quad$ sequence $[8, 3, 10, 11]$\n",
    "\n",
    "### USE THE SHORT SEQUENCES TO PACK CLUSTER PIECES INSIDE COMPACT RECTANGLES\n",
    "\n",
    "The groups of pieces are then spatially arranged by taking the pieces in the order of the short sequence and aggregating them one by one without overlapping so as to keep the bounding box of the aggregate as small as possible in each step (\"greedy approach\"). We obtain an arrangement of each group of pieces and a small bounding box or \"compact rectangle\".\n",
    "<br>\n",
    "<div><img src=\"illustration-R{4,6}.JPG\" height=\"194\" />\n",
    "<img src=\"illustration-R{5,9}.JPG\" height=\"236\"/>\n",
    "<img src=\"illustration-R{0,5,9}.JPG\" height=\"197\"/>\n",
    "<img src=\"illustration-R{1,2,7}.JPG\" height=\"195\"/></div>\n",
    "<div><img src=\"illustration-R{0,1,2,7}.JPG\" height=\"210\"/>\n",
    "<img src=\"illustration-R{3,8,10,11}.JPG\" height=\"170\"/></div>\n",
    "\n",
    "### GENERATE PARTITIONS OF THE SET OF PIECES\n",
    "\n",
    "Generate randomly partitions, using the best rectangular arrangements, i.e. the rectangles that are the most compact.\n",
    "\n",
    "$$ \\{P_0, P_1, P_2, P_7\\}, \\{P_3, P_8, P_{10}, P_{11}\\}, \\{P_4, P_6\\}, \\{P_5, P_9\\}$$\n",
    "$$ \\{P_0, P_5, P_9\\}, \\{P_1, P_2, P_7\\}, \\{P_3, P_8, P_{10}, P_{11}\\}, \\{P_4, P_6\\}$$\n",
    "\n",
    "### PACK THE RECTANGLES INTO THE STRIP [NP-HARD]\n",
    "\n",
    "The packing problem is thus reduced for each partition of the set of $N$ pieces to the problem of packing only rectangles in the strip. The **rectangle packing problem** can be solved using an efficient classical algorithm called MAXRECTS (Jylänki, 2010). Note that this sub-problem is NP-hard and that it can also be formulated as a QUBO and then solved by Quantum Computing (Terada et al., 2018). Here is an example corresponding to the partition $\\{P_0, P_1, P_2, P_7\\}, \\{P_3, P_8, P_{10}, P_{11}\\}, \\{P_4, P_6\\}, \\{P_5, P_9\\}$:\n",
    "<br>\n",
    "<div><img src=\"illustration-rectangle-layout-PUZZLE3.JPG\" height=\"194\"/></div>\n",
    "\n",
    "### LOCAL [NP-HARD] AND GLOBAL OPTIMIZATION OF THE STRIP LENGTH\n",
    "\n",
    "For each partition, we use the solution of the rectangle packer to get an initial layout for the $N$ pieces. This layout is then improved by minimizing the length of the strip $L$ with respect to the coordinates of the pieces (orientations remain fixed). This step is an NP-hard problem. Afterwards, we improve again the layout by global optimization. Here, the right-most pieces in the strip are repeatedly shifted whenever possible to the left-most unoccupied space.\n",
    "\n",
    "### RETURN THE BEST LAYOUT\n",
    "\n",
    "After examining the layouts obtained for all the partitions generated, we return as solution the one with the shortest length $L$. The optimal length for PUZZLE3 is $L=1880.44$ which yields a waste of $14.94\\%$. This can be achieved for instance with the partition $\\{P_0, P_1, P_2, P_7\\}, \\{P_3, P_8, P_{10}, P_{11}\\}, \\{P_4, P_6\\}, \\{P_5, P_9\\}$ (shown here-below) or with $\\{P_0, P_5, P_9\\}, \\{P_1, P_2, P_7\\}, \\{P_3, P_8, P_{10}, P_{11}\\}, \\{P_4, P_6\\}$.\n",
    "<br>\n",
    "<div><img src=\"illustration-layout-PUZZLE3-0127-381011-46-59.JPG\" height=\"243\"/></div>"
   ],
   "metadata": {
    "collapsed": false,
    "pycharm": {
     "name": "#%% md\n"
    }
   }
  },
  {
   "cell_type": "markdown",
   "source": [
    "## SOLVE THE PACKING PROBLEM AND SHOW THE BEST LAYOUT FOUND:"
   ],
   "metadata": {
    "collapsed": false
   }
  },
  {
   "cell_type": "code",
   "execution_count": 14,
   "outputs": [
    {
     "name": "stdout",
     "output_type": "stream",
     "text": [
      "The distance matrix and nofit functions have already been pre-computed and will be directly loaded\n",
      "[[110332.9  99391.3 104405.9  88739.6  95897.1  89548.9 105074.1 141070.4\n",
      "   65864.4  49802.6  69743.3  79106.9]\n",
      " [ 99391.3  27301.8  75994.1  50006.6  69341.8  63188.8  84261.1  51924.6\n",
      "   46509.3 127987.4  69289.5  47487.5]\n",
      " [104405.9  75994.1  41237.7  50557.5  67522.6  83519.1  90059.7  40373.4\n",
      "   49663.4 134586.9  47421.4  45566.4]\n",
      " [ 88739.6  50006.6  50557.5  47631.1  56754.8  79854.5  73505.2  82376.9\n",
      "   23610.4 103540.   28144.   40057.7]\n",
      " [ 95897.1  69341.8  67522.6  56754.8  27838.9  60134.2  44784.5  86602.9\n",
      "   53706.2 102904.4  53073.4  47315.1]\n",
      " [ 89548.9  63188.8  83519.1  79854.5  60134.2  62295.9  75743.3 125825.1\n",
      "   50989.5  89455.6  70637.4  67416.2]\n",
      " [105074.1  84261.1  90059.7  73505.2  44784.5  75743.3  30438.6 114271.5\n",
      "   70000.3 128547.   69936.9  69327.5]\n",
      " [141070.4  51924.6  40373.4  82376.9  86602.9 125825.1 114271.5 104631.4\n",
      "   82237.3 172385.2  84117.9  84160.2]\n",
      " [ 65864.4  46509.3  49663.4  23610.4  53706.2  50989.5  70000.3  82237.3\n",
      "   21839.6 104484.2  47117.6  29162.8]\n",
      " [ 49802.6 127987.4 134586.9 103540.  102904.4  89455.6 128547.  172385.2\n",
      "  104484.2 111750.  102993.5 106092.4]\n",
      " [ 69743.3  69289.5  47421.4  28144.   53073.4  70637.4  69936.9  84117.9\n",
      "   47117.6 102993.5  51177.3  19505.1]\n",
      " [ 79106.9  47487.5  45566.4  40057.7  47315.1  67416.2  69327.5  84160.2\n",
      "   29162.8 106092.4  19505.1  16231.2]]\n",
      "$$ D = \\left[ \\begin{array}{rrrrrrrr}\n",
      "110332.9 & 99391.3 & 104405.9 & 88739.6 & 95897.1 & 89548.9 & 105074.1 & 141070.4 & 65864.4 & 49802.6 & 69743.3 & 79106.9 \\\\\n",
      "99391.3 & 27301.8 & 75994.1 & 50006.6 & 69341.8 & 63188.8 & 84261.1 & 51924.6 & 46509.3 & 127987.4 & 69289.5 & 47487.5 \\\\\n",
      "104405.9 & 75994.1 & 41237.7 & 50557.5 & 67522.6 & 83519.1 & 90059.7 & 40373.4 & 49663.4 & 134586.9 & 47421.4 & 45566.4 \\\\\n",
      "88739.6 & 50006.6 & 50557.5 & 47631.1 & 56754.8 & 79854.5 & 73505.2 & 82376.9 & 23610.4 & 103540.0 & 28144.0 & 40057.7 \\\\\n",
      "95897.1 & 69341.8 & 67522.6 & 56754.8 & 27838.9 & 60134.2 & 44784.5 & 86602.9 & 53706.2 & 102904.4 & 53073.4 & 47315.1 \\\\\n",
      "89548.9 & 63188.8 & 83519.1 & 79854.5 & 60134.2 & 62295.9 & 75743.3 & 125825.1 & 50989.5 & 89455.6 & 70637.4 & 67416.2 \\\\\n",
      "105074.1 & 84261.1 & 90059.7 & 73505.2 & 44784.5 & 75743.3 & 30438.6 & 114271.5 & 70000.3 & 128547.0 & 69936.9 & 69327.5 \\\\\n",
      "141070.4 & 51924.6 & 40373.4 & 82376.9 & 86602.9 & 125825.1 & 114271.5 & 104631.4 & 82237.3 & 172385.2 & 84117.9 & 84160.2 \\\\\n",
      "65864.4 & 46509.3 & 49663.4 & 23610.4 & 53706.2 & 50989.5 & 70000.3 & 82237.3 & 21839.6 & 104484.2 & 47117.6 & 29162.8 \\\\\n",
      "49802.6 & 127987.4 & 134586.9 & 103540.0 & 102904.4 & 89455.6 & 128547.0 & 172385.2 & 104484.2 & 111750.0 & 102993.5 & 106092.4 \\\\\n",
      "69743.3 & 69289.5 & 47421.4 & 28144.0 & 53073.4 & 70637.4 & 69936.9 & 84117.9 & 47117.6 & 102993.5 & 51177.3 & 19505.1 \\\\\n",
      "79106.9 & 47487.5 & 45566.4 & 40057.7 & 47315.1 & 67416.2 & 69327.5 & 84160.2 & 29162.8 & 106092.4 & 19505.1 & 16231.2 \\\\\n",
      "\\end{array}\\right] $$\n",
      "$$ GI = \\left[ \\begin{array}{rrrrrrrr}\n",
      "0.148 & 0.168 & 0.171 & 0.178 & 0.170 & 0.151 & 0.183 & 0.236 & 0.147 & 0.073 & 0.148 & 0.180 \\\\\n",
      "0.168 & 0.072 & 0.172 & 0.157 & 0.176 & 0.148 & 0.205 & 0.142 & 0.163 & 0.205 & 0.210 & 0.178 \\\\\n",
      "0.171 & 0.172 & 0.098 & 0.151 & 0.165 & 0.181 & 0.208 & 0.109 & 0.163 & 0.209 & 0.147 & 0.162 \\\\\n",
      "0.178 & 0.157 & 0.151 & 0.203 & 0.189 & 0.221 & 0.230 & 0.261 & 0.130 & 0.200 & 0.136 & 0.225 \\\\\n",
      "0.170 & 0.176 & 0.165 & 0.189 & 0.085 & 0.151 & 0.129 & 0.230 & 0.200 & 0.179 & 0.184 & 0.195 \\\\\n",
      "0.151 & 0.148 & 0.181 & 0.221 & 0.151 & 0.143 & 0.182 & 0.278 & 0.169 & 0.150 & 0.206 & 0.225 \\\\\n",
      "0.183 & 0.205 & 0.208 & 0.230 & 0.129 & 0.182 & 0.091 & 0.281 & 0.245 & 0.214 & 0.228 & 0.261 \\\\\n",
      "0.236 & 0.142 & 0.109 & 0.261 & 0.230 & 0.278 & 0.281 & 0.272 & 0.287 & 0.273 & 0.272 & 0.313 \\\\\n",
      "0.147 & 0.163 & 0.163 & 0.130 & 0.200 & 0.169 & 0.245 & 0.287 & 0.146 & 0.214 & 0.240 & 0.212 \\\\\n",
      "0.073 & 0.205 & 0.209 & 0.200 & 0.179 & 0.150 & 0.214 & 0.273 & 0.214 & 0.149 & 0.203 & 0.225 \\\\\n",
      "0.148 & 0.210 & 0.147 & 0.136 & 0.184 & 0.206 & 0.228 & 0.272 & 0.240 & 0.203 & 0.231 & 0.131 \\\\\n",
      "0.180 & 0.178 & 0.162 & 0.225 & 0.195 & 0.225 & 0.261 & 0.313 & 0.212 & 0.225 & 0.131 & 0.154 \\\\\n",
      "\\end{array}\\right] $$\n",
      "Partitioning the set of pieces using stochastic agglomerative clustering:\n",
      "1.  [[0], [1], [2], [3], [4], [5], [6], [7], [8], [9], [10], [11]]\n",
      "2.  [[0], [1], [2], [3], [4], [5], [6], [7], [8, 10], [9], [11]]\n",
      "3.  [[0], [1], [2], [3], [4], [5, 8], [6], [7], [9], [10], [11]]\n",
      "4.  [[0], [1], [2], [3, 9], [4], [5, 8], [6], [7], [10], [11]]\n",
      "5.  [[0], [1], [2], [3, 9], [4], [5], [6], [7], [8], [10], [11]]\n",
      "6.  [[0], [1, 11], [2], [3], [4], [5], [6], [7], [8, 10], [9]]\n",
      "7.  [[0], [1, 7], [2], [3], [4], [5, 8], [6], [9], [10], [11]]\n",
      "8.  [[0], [1], [2], [3, 9], [4], [5, 11], [6], [7], [8], [10]]\n",
      "9.  [[0], [1, 11], [2], [3, 9], [4], [5], [6], [7], [8, 10]]\n",
      "10.  [[0], [1, 11], [2], [3, 9], [4, 5], [6], [7], [8, 10]]\n",
      "11.  [[0], [1], [2], [3], [4, 6], [5], [7], [8], [9], [10], [11]]\n",
      "12.  [[0], [1], [2], [3], [4], [5, 10], [6], [7], [8], [9], [11]]\n",
      "13.  [[0, 8, 10], [1, 11], [2], [3, 9], [4], [5], [6], [7]]\n",
      "14.  [[0], [1], [2, 7], [3], [4, 6], [5], [8], [9], [10], [11]]\n",
      "15.  [[0], [1], [2], [3, 5, 9, 11], [4], [6], [7], [8], [10]]\n",
      "16.  [[0], [1], [2], [3], [4], [5, 10], [6, 8], [7], [9], [11]]\n",
      "17.  [[0], [1, 7], [2, 5, 8], [3], [4], [6], [9], [10], [11]]\n",
      "18.  [[0, 3], [1, 7], [2], [4], [5, 8], [6], [9], [10], [11]]\n",
      "19.  [[0], [1, 7], [2], [3, 6], [4], [5, 8], [9], [10], [11]]\n",
      "20.  [[0], [1, 3], [2], [4, 6], [5], [7], [8], [9], [10], [11]]\n",
      "21.  [[0], [1, 3], [2], [4, 6], [5], [7], [8], [9, 10], [11]]\n",
      "22.  [[0], [1], [2, 10], [3], [4], [5], [6], [7], [8], [9], [11]]\n",
      "23.  [[0], [1], [2, 7], [3], [4], [5, 8], [6], [9], [10], [11]]\n",
      "24.  [[0], [1], [2], [3, 11], [4], [5], [6], [7], [8], [9], [10]]\n",
      "25.  [[0], [1], [2, 4], [3, 9], [5], [6], [7], [8], [10], [11]]\n",
      "26.  [[0, 3], [1, 7, 10], [2], [4], [5, 8], [6], [9], [11]]\n",
      "27.  [[0], [1], [2], [3, 5, 9, 11], [4], [6], [7], [8, 10]]\n",
      "28.  [[0, 6], [1], [2], [3, 9], [4], [5, 8], [7], [10], [11]]\n",
      "29.  [[0, 3], [1, 7, 10], [2, 9], [4], [5, 8], [6], [11]]\n",
      "30.  [[0], [1], [2], [3, 5, 10], [4], [6], [7], [8], [9], [11]]\n",
      "31.  [[0], [1], [2, 7], [3], [4], [5, 8], [6], [9], [10, 11]]\n",
      "32.  [[0, 7], [1], [2], [3, 9], [4], [5], [6], [8], [10], [11]]\n",
      "33.  [[0, 2, 3, 9], [1, 7, 10], [4], [5, 8], [6], [11]]\n",
      "34.  [[0], [1], [2, 5, 7], [3], [4, 6], [8], [9], [10], [11]]\n",
      "35.  [[0], [1, 7], [2], [3, 6], [4], [5, 8, 9], [10], [11]]\n",
      "36.  [[0], [1], [2], [3, 9], [4], [5, 6, 8], [7], [10], [11]]\n",
      "37.  [[0, 10], [1], [2, 5, 7], [3], [4, 6], [8], [9], [11]]\n",
      "38.  [[0], [1, 2, 7], [3], [4], [5, 8], [6], [9], [10], [11]]\n",
      "39.  [[0], [1], [2, 7], [3], [4, 6], [5, 8], [9], [10, 11]]\n",
      "40.  [[0], [1], [2, 7], [3], [4, 6], [5, 9], [8], [10], [11]]\n",
      "41.  [[0], [1, 2, 7], [3], [4], [5, 8], [6], [9], [10, 11]]\n",
      "42.  [[0], [1], [2, 4], [3], [5, 10], [6, 8], [7], [9], [11]]\n",
      "43.  [[0], [1], [2], [3, 9], [4], [5, 6, 8, 10], [7], [11]]\n",
      "44.  [[0], [1, 11], [2, 3, 9], [4, 5], [6], [7], [8, 10]]\n",
      "45.  [[0], [1, 11], [2, 8, 10], [3, 9], [4, 5], [6], [7]]\n",
      "46.  [[0, 6], [1, 11], [2, 8, 10], [3, 9], [4, 5], [7]]\n",
      "47.  [[0, 8, 10], [1, 11], [2, 5], [3, 9], [4], [6], [7]]\n",
      "48.  [[0, 8, 10], [1, 11], [2], [3, 5, 9], [4], [6], [7]]\n",
      "49.  [[0, 3], [1, 7, 10], [2, 4, 9], [5, 8], [6], [11]]\n",
      "Solving 52 TSP problems...\n",
      "Solving TSPs using QAOA...\n",
      "Creating a list of 52 QAOA circuits\n",
      "QAOA circuit has depth 7 and uses 0 CNOT gate(s)\n",
      "    optimized QAOA circuit parameters:  [0.96719899 0.68319587 0.38605597 0.80885149 0.18191954]\n",
      "QAOA circuit has depth 7 and uses 0 CNOT gate(s)\n",
      "    optimized QAOA circuit parameters:  [0.07294296 0.30602635 0.21617129 0.42823468 0.86420773]\n",
      "QAOA circuit has depth 7 and uses 0 CNOT gate(s)\n",
      "    optimized QAOA circuit parameters:  [0.43217671 0.37150018 0.07275039 0.87458962 0.12719662]\n",
      "QAOA circuit has depth 7 and uses 0 CNOT gate(s)\n",
      "    optimized QAOA circuit parameters:  [0.16460564 0.88425134 0.47033976 0.56877613 0.18349263]\n",
      "QAOA circuit has depth 7 and uses 0 CNOT gate(s)\n",
      "    optimized QAOA circuit parameters:  [0.46034617 0.87263629 0.92927073 0.04629059 0.16816675]\n",
      "QAOA circuit has depth 7 and uses 0 CNOT gate(s)\n",
      "    optimized QAOA circuit parameters:  [0.80332769 0.60202946 0.60772698 0.95111469 0.75810239]\n",
      "QAOA circuit has depth 7 and uses 0 CNOT gate(s)\n",
      "    optimized QAOA circuit parameters:  [0.71671732 0.605511   0.48446755 0.67403049 0.39535793]\n",
      "QAOA circuit has depth 7 and uses 0 CNOT gate(s)\n",
      "    optimized QAOA circuit parameters:  [0.32269997 0.13119879 0.53389755 0.33945842 0.744308  ]\n",
      "QAOA circuit has depth 7 and uses 0 CNOT gate(s)\n",
      "    optimized QAOA circuit parameters:  [0.9625918  0.44838175 0.09930195 0.08519831 0.00215078]\n",
      "QAOA circuit has depth 7 and uses 0 CNOT gate(s)\n",
      "    optimized QAOA circuit parameters:  [0.86818726 0.32471057 0.52659185 0.08670778 0.50430086]\n",
      "QAOA circuit has depth 7 and uses 0 CNOT gate(s)\n",
      "    optimized QAOA circuit parameters:  [0.8595885  0.13761223 0.75265587 0.07077661 0.81689538]\n",
      "QAOA circuit has depth 7 and uses 0 CNOT gate(s)\n",
      "    optimized QAOA circuit parameters:  [0.21713274 0.55987774 0.92523658 0.62542835 0.34283849]\n",
      "QAOA circuit has depth 40 and uses 40 CNOT gate(s)\n",
      "    optimized QAOA circuit parameters:  [0.33128842 1.97353916 0.29924975 0.05128698 0.34064548 0.3840133\n",
      " 0.23867776 0.34820345 0.73045111 0.4449554 ]\n",
      "QAOA circuit has depth 40 and uses 40 CNOT gate(s)\n",
      "    optimized QAOA circuit parameters:  [0.29175935 1.93420198 0.63296853 0.27705612 0.20367555 0.71573334\n",
      " 0.50834222 0.49704363 0.86663596 0.82515159]\n",
      "QAOA circuit has depth 40 and uses 40 CNOT gate(s)\n",
      "    optimized QAOA circuit parameters:  [1.34416766 0.26822554 0.83938988 0.60787456 0.48582759 0.54152985\n",
      " 0.78217661 0.59608191 0.34418848 0.36620573]\n",
      "QAOA circuit has depth 40 and uses 40 CNOT gate(s)\n",
      "    optimized QAOA circuit parameters:  [0.15180175 0.06727514 0.48836549 0.9902713  0.27881323 0.19248004\n",
      " 0.68201253 0.10537058 0.9052911  0.78607993]\n",
      "QAOA circuit has depth 40 and uses 40 CNOT gate(s)\n",
      "    optimized QAOA circuit parameters:  [0.66738835 1.91807682 0.56755397 0.31579827 0.41085235 0.38223344\n",
      " 1.18445765 0.83510465 0.04659092 0.48713603]\n",
      "QAOA circuit has depth 40 and uses 40 CNOT gate(s)\n",
      "    optimized QAOA circuit parameters:  [0.540744   0.95482381 0.81381741 0.83042012 0.16420153 0.29014745\n",
      " 0.76708922 0.36126992 0.65154908 0.04481054]\n",
      "QAOA circuit has depth 40 and uses 40 CNOT gate(s)\n",
      "    optimized QAOA circuit parameters:  [1.36390437 0.59936705 0.27368848 0.92653769 0.65212477 0.98636825\n",
      " 0.18902938 0.82611411 1.35773493 0.77613913]\n",
      "QAOA circuit has depth 40 and uses 40 CNOT gate(s)\n",
      "    optimized QAOA circuit parameters:  [0.12304937 0.74677168 0.17868142 0.76932657 0.20941319 0.41479289\n",
      " 0.06226443 0.61201032 0.22659095 0.35146165]\n",
      "QAOA circuit has depth 40 and uses 40 CNOT gate(s)\n",
      "    optimized QAOA circuit parameters:  [0.15739004 0.53941398 0.73785577 0.09968512 0.37032298 0.76827207\n",
      " 0.05032856 0.31526072 0.19222406 0.82687571]\n",
      "QAOA circuit has depth 103 and uses 180 CNOT gate(s)\n",
      "    optimized QAOA circuit parameters:  [ 0.61421775  1.25585088  0.56457341  0.41576906  0.21954572  0.25943733\n",
      "  0.18884701  0.05176521  0.06442041 -0.31776373]\n",
      "QAOA circuit has depth 40 and uses 40 CNOT gate(s)\n",
      "    optimized QAOA circuit parameters:  [ 0.70604181  0.76922843  0.94465615  0.39171615  0.33101794  0.30566491\n",
      "  0.31468557 -0.0261346   0.59278196  0.3696566 ]\n",
      "QAOA circuit has depth 148 and uses 480 CNOT gate(s)\n",
      "    optimized QAOA circuit parameters:  [ 2.07088466  0.5843956   0.33295329  0.152138   -0.05660149  0.7511635\n",
      "  0.6425301  -0.37815519  0.30388557  0.1952275 ]\n",
      "QAOA circuit has depth 40 and uses 40 CNOT gate(s)\n",
      "    optimized QAOA circuit parameters:  [0.8118796  0.13052723 0.23821003 0.34933225 0.93318843 0.34363027\n",
      " 0.01554012 0.20991883 0.55421007 0.6678381 ]\n",
      "QAOA circuit has depth 103 and uses 180 CNOT gate(s)\n",
      "    optimized QAOA circuit parameters:  [0.67448512 0.82143161 1.53513089 0.90815194 0.96854401 0.21751596\n",
      " 0.03030836 1.36207641 0.35502262 0.0793437 ]\n",
      "QAOA circuit has depth 40 and uses 40 CNOT gate(s)\n",
      "    optimized QAOA circuit parameters:  [0.32065448 1.31127292 1.01201623 0.33984111 0.04291423 0.07194481\n",
      " 1.93211267 0.17647763 0.04148527 0.05067808]\n",
      "QAOA circuit has depth 40 and uses 40 CNOT gate(s)\n",
      "    optimized QAOA circuit parameters:  [0.5404273  0.66809006 0.44359291 0.15050275 0.66269077 0.41696982\n",
      " 0.38427215 0.05786264 0.44498205 0.14005514]\n",
      "QAOA circuit has depth 40 and uses 40 CNOT gate(s)\n",
      "    optimized QAOA circuit parameters:  [0.5664586  0.18712898 0.5168708  0.53817378 0.54742731 0.63125472\n",
      " 0.15871002 0.75957023 0.25813634 0.14860961]\n",
      "QAOA circuit has depth 40 and uses 40 CNOT gate(s)\n",
      "    optimized QAOA circuit parameters:  [0.53209754 1.29512    0.02878579 0.44434424 0.56862736 0.35582527\n",
      " 0.09401862 0.06412279 0.64236965 0.44447041]\n",
      "QAOA circuit has depth 40 and uses 40 CNOT gate(s)\n",
      "    optimized QAOA circuit parameters:  [1.35493658 0.56290316 0.29233386 0.43461024 0.9047554  0.35887808\n",
      " 1.88557222 0.52819319 0.61529763 0.06372905]\n",
      "QAOA circuit has depth 40 and uses 40 CNOT gate(s)\n",
      "    optimized QAOA circuit parameters:  [0.31396548 0.38211763 1.39886682 1.77279014 0.03570425 0.13763957\n",
      " 0.76471019 0.13721477 0.62722918 0.3992981 ]\n",
      "QAOA circuit has depth 40 and uses 40 CNOT gate(s)\n",
      "    optimized QAOA circuit parameters:  [0.29463002 0.25263706 0.06430198 0.97762554 0.67753083 0.90317332\n",
      " 0.08485804 0.57944229 0.40933398 0.9970902 ]\n",
      "QAOA circuit has depth 103 and uses 180 CNOT gate(s)\n",
      "    optimized QAOA circuit parameters:  [1.13122427 1.33674487 1.59148638 0.13846809 1.27207701 0.08408309\n",
      " 0.59697429 0.136089   0.96402218 0.30327635]\n",
      "QAOA circuit has depth 40 and uses 40 CNOT gate(s)\n",
      "    optimized QAOA circuit parameters:  [0.71429042 0.49773594 1.06951607 0.31173304 0.49455615 0.67180347\n",
      " 0.90026965 0.05284265 0.57499939 0.09011668]\n",
      "QAOA circuit has depth 40 and uses 40 CNOT gate(s)\n",
      "    optimized QAOA circuit parameters:  [0.91638088 0.93847426 0.64967574 0.06065802 0.83950489 0.97285334\n",
      " 0.87159261 0.23338295 0.38181431 0.98238543]\n",
      "QAOA circuit has depth 103 and uses 180 CNOT gate(s)\n",
      "    optimized QAOA circuit parameters:  [1.03480086 0.1742362  0.60077168 1.10223885 0.0441078  0.37785162\n",
      " 0.73653581 0.251245   0.73673479 0.38613688]\n",
      "QAOA circuit has depth 40 and uses 40 CNOT gate(s)\n",
      "    optimized QAOA circuit parameters:  [ 0.76261749  0.54547545  0.81756829  0.00603205  0.8305392   0.43422544\n",
      "  0.05708014  0.25047991  0.66642953 -0.59353854]\n",
      "QAOA circuit has depth 40 and uses 40 CNOT gate(s)\n",
      "    optimized QAOA circuit parameters:  [0.06123469 0.75933955 0.69591699 0.13266476 0.49986876 0.51004357\n",
      " 0.77472233 0.76046335 0.53542282 0.22411962]\n",
      "QAOA circuit has depth 148 and uses 480 CNOT gate(s)\n",
      "    optimized QAOA circuit parameters:  [1.13835957 1.41966791 0.66708076 0.08034892 0.02565181 1.01463919\n",
      " 0.09071126 0.46569041 0.92364701 0.42088824]\n",
      "QAOA circuit has depth 103 and uses 180 CNOT gate(s)\n",
      "    optimized QAOA circuit parameters:  [ 1.4889759   0.32287887  1.91739941  1.06245124  0.13557704  0.84553813\n",
      "  0.62221998  1.94736442  0.20694968 -0.05433267]\n",
      "QAOA circuit has depth 103 and uses 180 CNOT gate(s)\n",
      "    optimized QAOA circuit parameters:  [1.58408218 0.23957619 1.06960379 0.67057937 0.09572696 0.64226094\n",
      " 0.83761571 0.84862423 0.32809865 0.63639295]\n",
      "QAOA circuit has depth 103 and uses 180 CNOT gate(s)\n",
      "    optimized QAOA circuit parameters:  [0.56398312 1.96061831 0.24333411 0.97571017 0.51617094 0.90971991\n",
      " 0.9350964  0.87181561 0.33937013 0.43399546]\n",
      "QAOA circuit has depth 40 and uses 40 CNOT gate(s)\n",
      "    optimized QAOA circuit parameters:  [ 0.72374555  0.6089689   0.26580541  0.29780016  1.31010931  0.26630839\n",
      " -0.06987112  0.03643995  0.46562637  0.56443997]\n",
      "QAOA circuit has depth 103 and uses 180 CNOT gate(s)\n",
      "    optimized QAOA circuit parameters:  [ 1.88773044  0.18796536  0.35793541  1.35792787 -0.00442394  0.23468087\n",
      "  0.24028514  0.19851636  0.83247152  0.12573077]\n",
      "QAOA circuit has depth 40 and uses 40 CNOT gate(s)\n",
      "    optimized QAOA circuit parameters:  [0.90531092 0.57664269 0.17910623 0.53682663 0.38609808 0.36260427\n",
      " 0.89070534 0.50569915 0.49403021 0.25530125]\n",
      "QAOA circuit has depth 148 and uses 480 CNOT gate(s)\n",
      "    optimized QAOA circuit parameters:  [1.06293012 0.24189908 0.53010147 1.57249692 1.77849834 0.2421016\n",
      " 0.65173838 0.27552915 0.04016322 1.47972455]\n",
      "QAOA circuit has depth 103 and uses 180 CNOT gate(s)\n",
      "    optimized QAOA circuit parameters:  [ 0.22610426 -0.40014482  0.81687109  0.83917163  0.01475662  0.78261372\n",
      "  0.12426057 -0.18896     1.90071351  0.27315268]\n",
      "QAOA circuit has depth 103 and uses 180 CNOT gate(s)\n",
      "    optimized QAOA circuit parameters:  [ 1.79886864  0.16182459  0.43110954  0.44347073 -0.32909432  0.24830802\n",
      "  0.43100472  0.77394076  0.30757568  0.52499803]\n",
      "QAOA circuit has depth 40 and uses 40 CNOT gate(s)\n",
      "    optimized QAOA circuit parameters:  [0.11102354 0.92147873 0.42517386 0.8232964  0.02624349 0.00632939\n",
      " 0.71486168 0.78202787 0.49101322 0.23879871]\n",
      "QAOA circuit has depth 103 and uses 180 CNOT gate(s)\n",
      "    optimized QAOA circuit parameters:  [0.23594381 1.62443829 1.93284235 1.27399206 0.98225976 0.62693446\n",
      " 0.88804474 0.23032253 0.7180925  0.44923792]\n",
      "QAOA circuit has depth 103 and uses 180 CNOT gate(s)\n",
      "    optimized QAOA circuit parameters:  [1.88119527 0.29381279 0.08854975 0.02151394 0.57913011 0.5098787\n",
      " 1.49112042 0.75623557 0.77024345 1.04886313]\n",
      "Executing the list of quantum circuits\n"
     ]
    },
    {
     "name": "stderr",
     "output_type": "stream",
     "text": [
      "C:\\Users\\pam\\PycharmProjects\\QuantumPacker\\TSP_QAOA_SOLVER.py:462: RuntimeWarning: More than 20 figures have been opened. Figures created through the pyplot interface (`matplotlib.pyplot.figure`) are retained until explicitly closed and may consume too much memory. (To control this warning, see the rcParam `figure.max_open_warning`).\n",
      "  f, ax = plt.subplots(1)\n"
     ]
    },
    {
     "name": "stdout",
     "output_type": "stream",
     "text": [
      "TSP problem #1 for set of pieces {0} REF:0\n",
      "TSP problem #2 for set of pieces {1} REF:1\n",
      "TSP problem #3 for set of pieces {2} REF:2\n",
      "TSP problem #4 for set of pieces {3} REF:3\n",
      "TSP problem #5 for set of pieces {4} REF:4\n",
      "TSP problem #6 for set of pieces {5} REF:5\n",
      "TSP problem #7 for set of pieces {6} REF:6\n",
      "TSP problem #8 for set of pieces {7} REF:7\n",
      "TSP problem #9 for set of pieces {8} REF:8\n",
      "TSP problem #10 for set of pieces {9} REF:9\n",
      "TSP problem #11 for set of pieces {10} REF:10\n",
      "TSP problem #12 for set of pieces {11} REF:11\n",
      "TSP problem #13 for set of pieces {8,10} REF:8-10\n",
      "TSP problem #14 for set of pieces {5,8} REF:5-8\n",
      "TSP problem #15 for set of pieces {3,9} REF:3-9\n",
      "TSP problem #16 for set of pieces {1,11} REF:1-11\n",
      "TSP problem #17 for set of pieces {1,7} REF:1-7\n",
      "TSP problem #18 for set of pieces {5,11} REF:5-11\n",
      "TSP problem #19 for set of pieces {4,5} REF:4-5\n",
      "TSP problem #20 for set of pieces {4,6} REF:4-6\n",
      "TSP problem #21 for set of pieces {5,10} REF:5-10\n",
      "TSP problem #22 for set of pieces {0,8,10} REF:0-8-10\n",
      "TSP problem #23 for set of pieces {2,7} REF:2-7\n",
      "TSP problem #24 for set of pieces {3,5,9,11} REF:3-5-9-11\n",
      "TSP problem #25 for set of pieces {6,8} REF:6-8\n",
      "TSP problem #26 for set of pieces {2,5,8} REF:2-5-8\n",
      "TSP problem #27 for set of pieces {0,3} REF:0-3\n",
      "TSP problem #28 for set of pieces {3,6} REF:3-6\n",
      "TSP problem #29 for set of pieces {1,3} REF:1-3\n",
      "TSP problem #30 for set of pieces {9,10} REF:9-10\n",
      "TSP problem #31 for set of pieces {2,10} REF:2-10\n",
      "TSP problem #32 for set of pieces {3,11} REF:3-11\n",
      "TSP problem #33 for set of pieces {2,4} REF:2-4\n",
      "TSP problem #34 for set of pieces {1,7,10} REF:1-7-10\n",
      "TSP problem #35 for set of pieces {0,6} REF:0-6\n",
      "TSP problem #36 for set of pieces {2,9} REF:2-9\n",
      "TSP problem #37 for set of pieces {3,5,10} REF:3-5-10\n",
      "TSP problem #38 for set of pieces {10,11} REF:10-11\n",
      "TSP problem #39 for set of pieces {0,7} REF:0-7\n",
      "TSP problem #40 for set of pieces {0,2,3,9} REF:0-2-3-9\n",
      "TSP problem #41 for set of pieces {2,5,7} REF:2-5-7\n",
      "TSP problem #42 for set of pieces {5,8,9} REF:5-8-9\n",
      "TSP problem #43 for set of pieces {5,6,8} REF:5-6-8\n",
      "TSP problem #44 for set of pieces {0,10} REF:0-10\n",
      "TSP problem #45 for set of pieces {1,2,7} REF:1-2-7\n",
      "TSP problem #46 for set of pieces {5,9} REF:5-9\n",
      "TSP problem #47 for set of pieces {5,6,8,10} REF:5-6-8-10\n",
      "TSP problem #48 for set of pieces {2,3,9} REF:2-3-9\n",
      "TSP problem #49 for set of pieces {2,8,10} REF:2-8-10\n",
      "TSP problem #50 for set of pieces {2,5} REF:2-5\n",
      "TSP problem #51 for set of pieces {3,5,9} REF:3-5-9\n",
      "TSP problem #52 for set of pieces {2,4,9} REF:2-4-9\n",
      "Packing pieces in 52 rectangles...\n",
      "Packing pieces 0\n",
      "Packing pieces 1\n",
      "Packing pieces 2\n",
      "Packing pieces 3\n",
      "Packing pieces 4\n",
      "Packing pieces 5\n",
      "Packing pieces 6\n",
      "Packing pieces 7\n",
      "Packing pieces 8\n",
      "Packing pieces 9\n",
      "Packing pieces 10\n",
      "Packing pieces 11\n",
      "Packing pieces 8-10\n",
      "Packing pieces 5-8\n",
      "Packing pieces 3-9\n",
      "Packing pieces 1-11\n",
      "Packing pieces 1-7\n",
      "Packing pieces 5-11\n",
      "Packing pieces 4-5\n",
      "Packing pieces 4-6\n",
      "Packing pieces 5-10\n",
      "Packing pieces 0-8-10\n",
      "Packing pieces 2-7\n",
      "Packing pieces 3-5-9-11\n",
      "Packing pieces 6-8\n",
      "Packing pieces 2-5-8\n",
      "Packing pieces 0-3\n",
      "Packing pieces 3-6\n",
      "Packing pieces 1-3\n",
      "Packing pieces 9-10\n",
      "Packing pieces 2-10\n",
      "Packing pieces 3-11\n",
      "Packing pieces 2-4\n",
      "Packing pieces 1-7-10\n",
      "Packing pieces 0-6\n",
      "Packing pieces 2-9\n",
      "Packing pieces 3-5-10\n"
     ]
    },
    {
     "name": "stderr",
     "output_type": "stream",
     "text": [
      "C:\\Users\\pam\\PycharmProjects\\QuantumPacker\\QUANTUM_PACKER.py:515: ShapelyDeprecationWarning: __len__ for multi-part geometries is deprecated and will be removed in Shapely 2.0. Check the length of the `geoms` property instead to get the  number of parts of a multi-part geometry.\n",
      "  list_of_polygons = list(p1) + [p2]\n",
      "C:\\Users\\pam\\PycharmProjects\\QuantumPacker\\QUANTUM_PACKER.py:515: ShapelyDeprecationWarning: Iteration over multi-part geometries is deprecated and will be removed in Shapely 2.0. Use the `geoms` property to access the constituent parts of a multi-part geometry.\n",
      "  list_of_polygons = list(p1) + [p2]\n",
      "C:\\Users\\pam\\PycharmProjects\\QuantumPacker\\QUANTUM_PACKER.py:162: ShapelyDeprecationWarning: __len__ for multi-part geometries is deprecated and will be removed in Shapely 2.0. Check the length of the `geoms` property instead to get the  number of parts of a multi-part geometry.\n",
      "  return self.is_intersection(list(shape1), shape2)\n",
      "C:\\Users\\pam\\PycharmProjects\\QuantumPacker\\QUANTUM_PACKER.py:162: ShapelyDeprecationWarning: Iteration over multi-part geometries is deprecated and will be removed in Shapely 2.0. Use the `geoms` property to access the constituent parts of a multi-part geometry.\n",
      "  return self.is_intersection(list(shape1), shape2)\n",
      "C:\\Users\\pam\\PycharmProjects\\QuantumPacker\\QUANTUM_PACKER.py:1273: ShapelyDeprecationWarning: __len__ for multi-part geometries is deprecated and will be removed in Shapely 2.0. Check the length of the `geoms` property instead to get the  number of parts of a multi-part geometry.\n",
      "  pieces = list(pieces)\n",
      "C:\\Users\\pam\\PycharmProjects\\QuantumPacker\\QUANTUM_PACKER.py:1273: ShapelyDeprecationWarning: Iteration over multi-part geometries is deprecated and will be removed in Shapely 2.0. Use the `geoms` property to access the constituent parts of a multi-part geometry.\n",
      "  pieces = list(pieces)\n"
     ]
    },
    {
     "name": "stdout",
     "output_type": "stream",
     "text": [
      "Showing the result of greedy packer for:  [10, 5, 3]\n"
     ]
    },
    {
     "data": {
      "text/plain": "<Figure size 432x288 with 0 Axes>"
     },
     "metadata": {},
     "output_type": "display_data"
    },
    {
     "data": {
      "text/plain": "<Figure size 432x288 with 0 Axes>"
     },
     "metadata": {},
     "output_type": "display_data"
    },
    {
     "data": {
      "text/plain": "<Figure size 432x288 with 0 Axes>"
     },
     "metadata": {},
     "output_type": "display_data"
    },
    {
     "data": {
      "text/plain": "<Figure size 432x288 with 0 Axes>"
     },
     "metadata": {},
     "output_type": "display_data"
    },
    {
     "data": {
      "text/plain": "<Figure size 432x288 with 0 Axes>"
     },
     "metadata": {},
     "output_type": "display_data"
    },
    {
     "data": {
      "text/plain": "<Figure size 432x288 with 0 Axes>"
     },
     "metadata": {},
     "output_type": "display_data"
    },
    {
     "data": {
      "text/plain": "<Figure size 432x288 with 0 Axes>"
     },
     "metadata": {},
     "output_type": "display_data"
    },
    {
     "data": {
      "text/plain": "<Figure size 432x288 with 0 Axes>"
     },
     "metadata": {},
     "output_type": "display_data"
    },
    {
     "data": {
      "text/plain": "<Figure size 432x288 with 0 Axes>"
     },
     "metadata": {},
     "output_type": "display_data"
    },
    {
     "data": {
      "text/plain": "<Figure size 432x288 with 0 Axes>"
     },
     "metadata": {},
     "output_type": "display_data"
    },
    {
     "data": {
      "text/plain": "<Figure size 432x288 with 0 Axes>"
     },
     "metadata": {},
     "output_type": "display_data"
    },
    {
     "data": {
      "text/plain": "<Figure size 432x288 with 0 Axes>"
     },
     "metadata": {},
     "output_type": "display_data"
    },
    {
     "data": {
      "text/plain": "<Figure size 432x288 with 0 Axes>"
     },
     "metadata": {},
     "output_type": "display_data"
    },
    {
     "data": {
      "text/plain": "<Figure size 432x288 with 0 Axes>"
     },
     "metadata": {},
     "output_type": "display_data"
    },
    {
     "data": {
      "text/plain": "<Figure size 432x288 with 0 Axes>"
     },
     "metadata": {},
     "output_type": "display_data"
    },
    {
     "data": {
      "text/plain": "<Figure size 432x288 with 0 Axes>"
     },
     "metadata": {},
     "output_type": "display_data"
    },
    {
     "data": {
      "text/plain": "<Figure size 432x288 with 0 Axes>"
     },
     "metadata": {},
     "output_type": "display_data"
    },
    {
     "data": {
      "text/plain": "<Figure size 432x288 with 0 Axes>"
     },
     "metadata": {},
     "output_type": "display_data"
    },
    {
     "data": {
      "text/plain": "<Figure size 432x288 with 0 Axes>"
     },
     "metadata": {},
     "output_type": "display_data"
    },
    {
     "data": {
      "text/plain": "<Figure size 432x288 with 0 Axes>"
     },
     "metadata": {},
     "output_type": "display_data"
    },
    {
     "data": {
      "text/plain": "<Figure size 432x288 with 0 Axes>"
     },
     "metadata": {},
     "output_type": "display_data"
    },
    {
     "data": {
      "text/plain": "<Figure size 432x288 with 0 Axes>"
     },
     "metadata": {},
     "output_type": "display_data"
    },
    {
     "data": {
      "text/plain": "<Figure size 432x288 with 0 Axes>"
     },
     "metadata": {},
     "output_type": "display_data"
    },
    {
     "data": {
      "text/plain": "<Figure size 432x288 with 0 Axes>"
     },
     "metadata": {},
     "output_type": "display_data"
    },
    {
     "data": {
      "text/plain": "<Figure size 432x288 with 0 Axes>"
     },
     "metadata": {},
     "output_type": "display_data"
    },
    {
     "data": {
      "text/plain": "<Figure size 432x288 with 0 Axes>"
     },
     "metadata": {},
     "output_type": "display_data"
    },
    {
     "data": {
      "text/plain": "<Figure size 432x288 with 0 Axes>"
     },
     "metadata": {},
     "output_type": "display_data"
    },
    {
     "data": {
      "text/plain": "<Figure size 432x288 with 0 Axes>"
     },
     "metadata": {},
     "output_type": "display_data"
    },
    {
     "data": {
      "text/plain": "<Figure size 432x288 with 0 Axes>"
     },
     "metadata": {},
     "output_type": "display_data"
    },
    {
     "data": {
      "text/plain": "<Figure size 432x288 with 0 Axes>"
     },
     "metadata": {},
     "output_type": "display_data"
    },
    {
     "data": {
      "text/plain": "<Figure size 432x288 with 0 Axes>"
     },
     "metadata": {},
     "output_type": "display_data"
    },
    {
     "data": {
      "text/plain": "<Figure size 432x288 with 0 Axes>"
     },
     "metadata": {},
     "output_type": "display_data"
    },
    {
     "data": {
      "text/plain": "<Figure size 432x288 with 0 Axes>"
     },
     "metadata": {},
     "output_type": "display_data"
    },
    {
     "data": {
      "text/plain": "<Figure size 432x288 with 0 Axes>"
     },
     "metadata": {},
     "output_type": "display_data"
    },
    {
     "data": {
      "text/plain": "<Figure size 432x288 with 0 Axes>"
     },
     "metadata": {},
     "output_type": "display_data"
    },
    {
     "data": {
      "text/plain": "<Figure size 432x288 with 0 Axes>"
     },
     "metadata": {},
     "output_type": "display_data"
    },
    {
     "data": {
      "text/plain": "<Figure size 432x288 with 0 Axes>"
     },
     "metadata": {},
     "output_type": "display_data"
    },
    {
     "data": {
      "text/plain": "<Figure size 432x288 with 0 Axes>"
     },
     "metadata": {},
     "output_type": "display_data"
    },
    {
     "data": {
      "text/plain": "<Figure size 432x288 with 0 Axes>"
     },
     "metadata": {},
     "output_type": "display_data"
    },
    {
     "data": {
      "text/plain": "<Figure size 432x288 with 0 Axes>"
     },
     "metadata": {},
     "output_type": "display_data"
    },
    {
     "data": {
      "text/plain": "<Figure size 432x288 with 0 Axes>"
     },
     "metadata": {},
     "output_type": "display_data"
    },
    {
     "data": {
      "text/plain": "<Figure size 432x288 with 0 Axes>"
     },
     "metadata": {},
     "output_type": "display_data"
    },
    {
     "data": {
      "text/plain": "<Figure size 432x288 with 0 Axes>"
     },
     "metadata": {},
     "output_type": "display_data"
    },
    {
     "data": {
      "text/plain": "<Figure size 432x288 with 0 Axes>"
     },
     "metadata": {},
     "output_type": "display_data"
    },
    {
     "data": {
      "text/plain": "<Figure size 432x288 with 0 Axes>"
     },
     "metadata": {},
     "output_type": "display_data"
    },
    {
     "data": {
      "text/plain": "<Figure size 432x288 with 0 Axes>"
     },
     "metadata": {},
     "output_type": "display_data"
    },
    {
     "data": {
      "text/plain": "<Figure size 432x288 with 0 Axes>"
     },
     "metadata": {},
     "output_type": "display_data"
    },
    {
     "data": {
      "text/plain": "<Figure size 432x288 with 0 Axes>"
     },
     "metadata": {},
     "output_type": "display_data"
    },
    {
     "data": {
      "text/plain": "<Figure size 432x288 with 0 Axes>"
     },
     "metadata": {},
     "output_type": "display_data"
    },
    {
     "data": {
      "text/plain": "<Figure size 432x288 with 0 Axes>"
     },
     "metadata": {},
     "output_type": "display_data"
    },
    {
     "data": {
      "text/plain": "<Figure size 432x288 with 0 Axes>"
     },
     "metadata": {},
     "output_type": "display_data"
    },
    {
     "data": {
      "text/plain": "<Figure size 432x288 with 0 Axes>"
     },
     "metadata": {},
     "output_type": "display_data"
    },
    {
     "data": {
      "text/plain": "<Figure size 432x288 with 1 Axes>",
      "image/png": "[encoded data removed]"
     },
     "metadata": {
      "needs_background": "light"
     },
     "output_type": "display_data"
    },
    {
     "name": "stdout",
     "output_type": "stream",
     "text": [
      "Packing pieces 10-11\n",
      "Packing pieces 0-7\n",
      "Packing pieces 0-2-3-9\n",
      "Packing pieces 2-5-7\n",
      "Packing pieces 5-8-9\n",
      "Packing pieces 5-6-8\n",
      "Packing pieces 0-10\n",
      "Packing pieces 1-2-7\n",
      "Packing pieces 5-9\n",
      "Packing pieces 5-6-8-10\n",
      "Packing pieces 2-3-9\n",
      "Packing pieces 2-8-10\n",
      "Packing pieces 2-5\n",
      "Packing pieces 3-5-9\n",
      "Packing pieces 2-4-9\n",
      "Generating partitions:\n",
      "     [[0, 5, 9], [1, 2, 7], [3, 8, 10, 11], [4, 6]]\n",
      "     [[0, 9], [1, 2, 7], [3, 8, 10, 11], [4, 6], [5]]\n",
      "     [[0, 5, 9], [1, 2, 7], [3, 8, 10, 11], [4], [6]]\n",
      "     [[0, 9], [1, 2, 7], [3, 8, 10, 11], [4, 5, 6]]\n",
      "     [[0, 5, 9], [1, 7], [2], [3, 8, 10, 11], [4, 6]]\n",
      "     [[0, 5, 9], [1, 2, 6, 7], [3, 8, 10, 11], [4]]\n",
      "     [[0, 5, 9], [1, 2, 7], [3, 10, 11], [4, 6], [8]]\n",
      "     [[0, 5, 9], [1, 2, 7], [3, 8, 10], [4, 6], [11]]\n",
      "     [[0, 5, 9], [1, 2], [3, 8, 10], [4, 6], [7], [11]]\n",
      "     [[0], [1, 2, 7], [3, 8, 10, 11], [4, 6], [5], [9]]\n",
      "     [[0, 1, 2, 7], [3, 8, 10, 11], [4, 6], [5], [9]]\n",
      "     [[0, 1, 2, 7], [3, 8, 10, 11], [4, 6], [5, 9]]\n",
      "     [[0, 5, 9], [1, 2], [3, 8, 10, 11], [4, 6], [7]]\n",
      "     [[0, 5, 9], [1, 2, 7], [3, 8, 10], [4, 6, 11]]\n",
      "===============\n",
      "Partition 1\n",
      "[[0, 5, 9], [1, 2, 7], [3, 8, 10, 11], [4, 6]]\n",
      "        packing rectangles in strip of height H=1200.0\n",
      "RectPack: Required height = 1088, required length = 2204\n",
      "            found a layout that fits in that bin\n"
     ]
    },
    {
     "name": "stderr",
     "output_type": "stream",
     "text": [
      "C:\\Users\\pam\\PycharmProjects\\QuantumPacker\\QUANTUM_PACKER.py:787: ShapelyDeprecationWarning: __len__ for multi-part geometries is deprecated and will be removed in Shapely 2.0. Check the length of the `geoms` property instead to get the  number of parts of a multi-part geometry.\n",
      "  layout += list(packed_pieces)\n",
      "C:\\Users\\pam\\PycharmProjects\\QuantumPacker\\QUANTUM_PACKER.py:787: ShapelyDeprecationWarning: Iteration over multi-part geometries is deprecated and will be removed in Shapely 2.0. Use the `geoms` property to access the constituent parts of a multi-part geometry.\n",
      "  layout += list(packed_pieces)\n"
     ]
    },
    {
     "name": "stdout",
     "output_type": "stream",
     "text": [
      "            running local optimization...\n",
      "            the optimized layout fits the container height\n",
      "IMPROVED CONTAINER LENGTH: 2202.449465127431\n",
      "{'0-5-9': (0, 0, 800, 1088, 0), '1-2-7': (800, 0, 701, 732, 0), '4-6': (1501, 0, 301, 1071, 0), '3-8-10-11': (1802, 0, 402, 756, 0)}\n",
      "        packing rectangles in strip of height H=1320.0\n",
      "RectPack: Required height = 1088, required length = 2204\n",
      "            found a layout that fits in that bin\n",
      "            running local optimization...\n",
      "            the optimized layout fits the container height\n",
      "            the container length has not been improved\n",
      "        packing rectangles in strip of height H=1440.0\n",
      "RectPack: Required height = 1389, required length = 1827\n",
      "            found a layout that fits in that bin\n",
      "            running local optimization...\n",
      "        packing rectangles in strip of height H=1200.0\n",
      "RectPack: Required height = 1088, required length = 2204\n",
      "            found a layout that fits in that bin\n",
      "            running local optimization...\n",
      "            the optimized layout fits the container height\n",
      "            the container length has not been improved\n",
      "        packing rectangles in strip of height H=1320.0\n",
      "RectPack: Required height = 1088, required length = 2204\n",
      "            found a layout that fits in that bin\n",
      "            running local optimization...\n",
      "            the optimized layout fits the container height\n",
      "            the container length has not been improved\n",
      "        packing rectangles in strip of height H=1440.0\n",
      "RectPack: Required height = 1389, required length = 2257\n",
      "            found a layout that fits in that bin\n",
      "            running local optimization...\n",
      "        packing rectangles in strip of height H=1200.0\n",
      "RectPack: Required height = 1134, required length = 2572\n",
      "            found a layout that fits in that bin\n",
      "            running local optimization...\n",
      "            the optimized layout fits the container height\n",
      "            the container length has not been improved\n",
      "        packing rectangles in strip of height H=1320.0\n",
      "RectPack: Required height = 1134, required length = 2572\n",
      "            found a layout that fits in that bin\n",
      "            running local optimization...\n",
      "            the optimized layout fits the container height\n",
      "            the container length has not been improved\n",
      "        packing rectangles in strip of height H=1440.0\n",
      "RectPack: Required height = 1389, required length = 1827\n",
      "            found a layout that fits in that bin\n",
      "            running local optimization...\n",
      "Partition 2\n",
      "[[0, 9], [1, 2, 7], [3, 8, 10, 11], [4, 6], [5]]\n",
      "        packing rectangles in strip of height H=1200.0\n",
      "        packing rectangles in strip of height H=1320.0\n",
      "RectPack: Required height = 1202, required length = 2107\n",
      "            found a layout that fits in that bin\n",
      "            running local optimization...\n",
      "        packing rectangles in strip of height H=1440.0\n",
      "RectPack: Required height = 1202, required length = 1934\n",
      "            found a layout that fits in that bin\n",
      "            running local optimization...\n",
      "        packing rectangles in strip of height H=1200.0\n",
      "RectPack: Required height = 1181, required length = 2204\n",
      "            found a layout that fits in that bin\n",
      "            running local optimization...\n",
      "            the optimized layout fits the container height\n",
      "            the container length has not been improved\n",
      "        packing rectangles in strip of height H=1320.0\n",
      "RectPack: Required height = 1202, required length = 2257\n",
      "            found a layout that fits in that bin\n",
      "            running local optimization...\n",
      "        packing rectangles in strip of height H=1440.0\n",
      "RectPack: Required height = 1202, required length = 2281\n",
      "            found a layout that fits in that bin\n",
      "            running local optimization...\n",
      "        packing rectangles in strip of height H=1200.0\n",
      "RectPack: Required height = 1181, required length = 2572\n",
      "            found a layout that fits in that bin\n",
      "            running local optimization...\n",
      "            the optimized layout fits the container height\n",
      "            the container length has not been improved\n",
      "        packing rectangles in strip of height H=1320.0\n",
      "RectPack: Required height = 1303, required length = 2572\n",
      "            found a layout that fits in that bin\n",
      "            running local optimization...\n",
      "        packing rectangles in strip of height H=1440.0\n",
      "RectPack: Required height = 1303, required length = 2572\n",
      "            found a layout that fits in that bin\n",
      "            running local optimization...\n",
      "Partition 3\n",
      "[[0, 5, 9], [1, 2, 7], [3, 8, 10, 11], [4], [6]]\n",
      "        packing rectangles in strip of height H=1200.0\n",
      "RectPack: Required height = 1134, required length = 2201\n",
      "            found a layout that fits in that bin\n",
      "            running local optimization...\n",
      "            the optimized layout fits the container height\n",
      "IMPROVED CONTAINER LENGTH: 2201.0\n",
      "{'0-5-9': (0, 0, 800, 1088, 0), '1-2-7': (800, 0, 701, 732, 0), '3-8-10-11': (800, 732, 756, 402, 0), '6': (1501, 0, 700, 300, 0), '4': (1501, 300, 650, 300, 0)}\n",
      "        packing rectangles in strip of height H=1320.0\n",
      "RectPack: Required height = 1134, required length = 2201\n",
      "            found a layout that fits in that bin\n",
      "            running local optimization...\n",
      "            the optimized layout fits the container height\n",
      "            the container length has not been improved\n",
      "        packing rectangles in strip of height H=1440.0\n",
      "RectPack: Required height = 1406, required length = 1934\n",
      "            found a layout that fits in that bin\n",
      "            running local optimization...\n",
      "        packing rectangles in strip of height H=1200.0\n",
      "RectPack: Required height = 1134, required length = 2206\n",
      "            found a layout that fits in that bin\n",
      "            running local optimization...\n",
      "            the optimized layout fits the container height\n",
      "IMPROVED CONTAINER LENGTH: 2198.0\n",
      "{'0-5-9': (0, 0, 800, 1088, 0), '1-2-7': (800, 0, 701, 732, 0), '3-8-10-11': (800, 732, 756, 402, 0), '6': (1501, 0, 300, 700, 0), '4': (1556, 700, 650, 300, 0)}\n",
      "        packing rectangles in strip of height H=1320.0\n",
      "RectPack: Required height = 1102, required length = 2257\n",
      "            found a layout that fits in that bin\n",
      "            running local optimization...\n",
      "            the optimized layout fits the container height\n",
      "            the container length has not been improved\n",
      "        packing rectangles in strip of height H=1440.0\n",
      "RectPack: Required height = 1432, required length = 2257\n",
      "            found a layout that fits in that bin\n",
      "            running local optimization...\n",
      "        packing rectangles in strip of height H=1200.0\n",
      "RectPack: Required height = 1134, required length = 2451\n",
      "            found a layout that fits in that bin\n",
      "            running local optimization...\n",
      "            the optimized layout fits the container height\n",
      "            the container length has not been improved\n",
      "        packing rectangles in strip of height H=1320.0\n",
      "RectPack: Required height = 1134, required length = 2451\n",
      "            found a layout that fits in that bin\n",
      "            running local optimization...\n",
      "            the optimized layout fits the container height\n",
      "            the container length has not been improved\n",
      "        packing rectangles in strip of height H=1440.0\n",
      "RectPack: Required height = 1434, required length = 1556\n",
      "            found a layout that fits in that bin\n",
      "            running local optimization...\n",
      "Partition 4\n",
      "[[0, 9], [1, 2, 7], [3, 8, 10, 11], [4, 5, 6]]\n",
      "        packing rectangles in strip of height H=1200.0\n",
      "        packing rectangles in strip of height H=1320.0\n",
      "RectPack: Required height = 1202, required length = 1903\n",
      "            found a layout that fits in that bin\n",
      "            running local optimization...\n",
      "        packing rectangles in strip of height H=1440.0\n",
      "RectPack: Required height = 1202, required length = 1903\n",
      "            found a layout that fits in that bin\n",
      "            running local optimization...\n",
      "        packing rectangles in strip of height H=1200.0\n",
      "        packing rectangles in strip of height H=1320.0\n",
      "RectPack: Required height = 1202, required length = 1903\n",
      "            found a layout that fits in that bin\n",
      "            running local optimization...\n",
      "        packing rectangles in strip of height H=1440.0\n",
      "RectPack: Required height = 1202, required length = 1903\n",
      "            found a layout that fits in that bin\n",
      "            running local optimization...\n",
      "        packing rectangles in strip of height H=1200.0\n",
      "        packing rectangles in strip of height H=1320.0\n",
      "RectPack: Required height = 1202, required length = 2608\n",
      "            found a layout that fits in that bin\n",
      "            running local optimization...\n",
      "        packing rectangles in strip of height H=1440.0\n",
      "RectPack: Required height = 1202, required length = 2608\n",
      "            found a layout that fits in that bin\n",
      "            running local optimization...\n",
      "Partition 5\n",
      "[[0, 5, 9], [1, 7], [2], [3, 8, 10, 11], [4, 6]]\n",
      "        packing rectangles in strip of height H=1200.0\n",
      "        packing rectangles in strip of height H=1320.0\n",
      "        packing rectangles in strip of height H=1440.0\n",
      "RectPack: Required height = 1389, required length = 2173\n",
      "            found a layout that fits in that bin\n",
      "            running local optimization...\n",
      "        packing rectangles in strip of height H=1200.0\n",
      "RectPack: Required height = 1088, required length = 2409\n",
      "            found a layout that fits in that bin\n",
      "            running local optimization...\n",
      "            the optimized layout fits the container height\n",
      "            the container length has not been improved\n",
      "        packing rectangles in strip of height H=1320.0\n",
      "RectPack: Required height = 1088, required length = 2409\n",
      "            found a layout that fits in that bin\n",
      "            running local optimization...\n",
      "            the optimized layout fits the container height\n",
      "            the container length has not been improved\n",
      "        packing rectangles in strip of height H=1440.0\n",
      "RectPack: Required height = 1389, required length = 2108\n",
      "            found a layout that fits in that bin\n",
      "            running local optimization...\n",
      "        packing rectangles in strip of height H=1200.0\n",
      "RectPack: Required height = 1102, required length = 2409\n",
      "            found a layout that fits in that bin\n",
      "            running local optimization...\n",
      "            the optimized layout fits the container height\n",
      "            the container length has not been improved\n",
      "        packing rectangles in strip of height H=1320.0\n",
      "RectPack: Required height = 1103, required length = 2423\n",
      "            found a layout that fits in that bin\n",
      "            running local optimization...\n",
      "            the optimized layout fits the container height\n",
      "            the container length has not been improved\n",
      "        packing rectangles in strip of height H=1440.0\n",
      "RectPack: Required height = 1389, required length = 1827\n",
      "            found a layout that fits in that bin\n",
      "            running local optimization...\n",
      "Partition 6\n",
      "[[0, 5, 9], [1, 2, 6, 7], [3, 8, 10, 11], [4]]\n",
      "        packing rectangles in strip of height H=1200.0\n",
      "RectPack: Required height = 1088, required length = 2151\n",
      "            found a layout that fits in that bin\n",
      "            running local optimization...\n",
      "            the optimized layout fits the container height\n",
      "IMPROVED CONTAINER LENGTH: 2142.0\n",
      "{'0-5-9': (0, 0, 800, 1088, 0), '1-2-6-7': (800, 0, 701, 1033, 0), '3-8-10-11': (1501, 0, 402, 756, 0), '4': (1501, 756, 650, 300, 0)}\n",
      "        packing rectangles in strip of height H=1320.0\n",
      "RectPack: Required height = 1088, required length = 2151\n",
      "            found a layout that fits in that bin\n",
      "            running local optimization...\n",
      "            the optimized layout fits the container height\n",
      "            the container length has not been improved\n",
      "        packing rectangles in strip of height H=1440.0\n",
      "RectPack: Required height = 1403, required length = 1833\n",
      "            found a layout that fits in that bin\n",
      "            running local optimization...\n",
      "        packing rectangles in strip of height H=1200.0\n",
      "RectPack: Required height = 1088, required length = 2257\n",
      "            found a layout that fits in that bin\n",
      "            running local optimization...\n",
      "            the optimized layout fits the container height\n",
      "            the container length has not been improved\n",
      "        packing rectangles in strip of height H=1320.0\n",
      "RectPack: Required height = 1088, required length = 2257\n",
      "            found a layout that fits in that bin\n",
      "            running local optimization...\n",
      "            the optimized layout fits the container height\n",
      "            the container length has not been improved\n",
      "        packing rectangles in strip of height H=1440.0\n",
      "RectPack: Required height = 1435, required length = 1556\n",
      "            found a layout that fits in that bin\n",
      "            running local optimization...\n",
      "        packing rectangles in strip of height H=1200.0\n",
      "RectPack: Required height = 1088, required length = 2557\n",
      "            found a layout that fits in that bin\n",
      "            running local optimization...\n",
      "            the optimized layout fits the container height\n",
      "            the container length has not been improved\n",
      "        packing rectangles in strip of height H=1320.0\n",
      "RectPack: Required height = 1088, required length = 2557\n",
      "            found a layout that fits in that bin\n",
      "            running local optimization...\n",
      "            the optimized layout fits the container height\n",
      "            the container length has not been improved\n",
      "        packing rectangles in strip of height H=1440.0\n",
      "RectPack: Required height = 1435, required length = 1556\n",
      "            found a layout that fits in that bin\n",
      "            running local optimization...\n",
      "Partition 7\n",
      "[[0, 5, 9], [1, 2, 7], [3, 10, 11], [4, 6], [8]]\n",
      "        packing rectangles in strip of height H=1200.0\n",
      "RectPack: Required height = 1133, required length = 2002\n",
      "            found a layout that fits in that bin\n",
      "            running local optimization...\n",
      "            the optimized layout fits the container height\n",
      "IMPROVED CONTAINER LENGTH: 2002.0\n",
      "{'0-5-9': (0, 0, 800, 1088, 0), '1-2-7': (800, 0, 701, 732, 0), '4-6': (1501, 0, 301, 1071, 0), '3-10-11': (800, 732, 623, 401, 0), '8': (1802, 0, 200, 400, 0)}\n",
      "        packing rectangles in strip of height H=1320.0\n",
      "RectPack: Required height = 1288, required length = 1802\n",
      "            found a layout that fits in that bin\n",
      "            running local optimization...\n",
      "        packing rectangles in strip of height H=1440.0\n",
      "RectPack: Required height = 1389, required length = 1932\n",
      "            found a layout that fits in that bin\n",
      "            running local optimization...\n",
      "        packing rectangles in strip of height H=1200.0\n",
      "RectPack: Required height = 1133, required length = 2202\n",
      "            found a layout that fits in that bin\n",
      "            running local optimization...\n",
      "            the optimized layout fits the container height\n",
      "            the container length has not been improved\n",
      "        packing rectangles in strip of height H=1320.0\n",
      "RectPack: Required height = 1133, required length = 2202\n",
      "            found a layout that fits in that bin\n",
      "            running local optimization...\n",
      "            the optimized layout fits the container height\n",
      "            the container length has not been improved\n",
      "        packing rectangles in strip of height H=1440.0\n",
      "RectPack: Required height = 1389, required length = 2155\n",
      "            found a layout that fits in that bin\n",
      "            running local optimization...\n",
      "        packing rectangles in strip of height H=1200.0\n",
      "RectPack: Required height = 1133, required length = 2202\n",
      "            found a layout that fits in that bin\n",
      "            running local optimization...\n",
      "            the optimized layout fits the container height\n",
      "            the container length has not been improved\n",
      "        packing rectangles in strip of height H=1320.0\n",
      "RectPack: Required height = 1288, required length = 1802\n",
      "            found a layout that fits in that bin\n",
      "            running local optimization...\n",
      "        packing rectangles in strip of height H=1440.0\n",
      "RectPack: Required height = 1389, required length = 1672\n",
      "            found a layout that fits in that bin\n",
      "            running local optimization...\n",
      "Partition 8\n",
      "[[0, 5, 9], [1, 2, 7], [3, 8, 10], [4, 6], [11]]\n",
      "        packing rectangles in strip of height H=1200.0\n",
      "RectPack: Required height = 1134, required length = 1982\n",
      "            found a layout that fits in that bin\n",
      "            running local optimization...\n",
      "            the optimized layout fits the container height\n",
      "IMPROVED CONTAINER LENGTH: 1982.0\n",
      "{'0-5-9': (0, 0, 800, 1088, 0), '1-2-7': (800, 0, 701, 732, 0), '4-6': (1501, 0, 301, 1071, 0), '3-8-10': (800, 732, 674, 402, 0), '11': (1802, 0, 180, 400, 0)}\n",
      "        packing rectangles in strip of height H=1320.0\n",
      "RectPack: Required height = 1268, required length = 1934\n",
      "            found a layout that fits in that bin\n",
      "            running local optimization...\n",
      "        packing rectangles in strip of height H=1440.0\n",
      "RectPack: Required height = 1389, required length = 1932\n",
      "            found a layout that fits in that bin\n",
      "            running local optimization...\n",
      "        packing rectangles in strip of height H=1200.0\n",
      "RectPack: Required height = 1134, required length = 1982\n",
      "            found a layout that fits in that bin\n",
      "            running local optimization...\n",
      "            the optimized layout fits the container height\n",
      "            the container length has not been improved\n",
      "        packing rectangles in strip of height H=1320.0\n",
      "RectPack: Required height = 1314, required length = 1802\n",
      "            found a layout that fits in that bin\n",
      "            running local optimization...\n",
      "        packing rectangles in strip of height H=1440.0\n",
      "RectPack: Required height = 1389, required length = 1932\n",
      "            found a layout that fits in that bin\n",
      "            running local optimization...\n",
      "        packing rectangles in strip of height H=1200.0\n",
      "RectPack: Required height = 1134, required length = 2202\n",
      "            found a layout that fits in that bin\n",
      "            running local optimization...\n",
      "            the optimized layout fits the container height\n",
      "            the container length has not been improved\n",
      "        packing rectangles in strip of height H=1320.0\n",
      "RectPack: Required height = 1314, required length = 1802\n",
      "            found a layout that fits in that bin\n",
      "            running local optimization...\n",
      "        packing rectangles in strip of height H=1440.0\n",
      "RectPack: Required height = 1406, required length = 1653\n",
      "            found a layout that fits in that bin\n",
      "            running local optimization...\n",
      "Partition 9\n",
      "[[0, 5, 9], [1, 2], [3, 8, 10], [4, 6], [7], [11]]\n",
      "        packing rectangles in strip of height H=1200.0\n",
      "        packing rectangles in strip of height H=1320.0\n",
      "        packing rectangles in strip of height H=1440.0\n",
      "RectPack: Required height = 1433, required length = 1745\n",
      "            found a layout that fits in that bin\n",
      "            running local optimization...\n",
      "        packing rectangles in strip of height H=1200.0\n",
      "        packing rectangles in strip of height H=1320.0\n",
      "        packing rectangles in strip of height H=1440.0\n",
      "RectPack: Required height = 1431, required length = 2175\n",
      "            found a layout that fits in that bin\n",
      "            running local optimization...\n",
      "        packing rectangles in strip of height H=1200.0\n",
      "        packing rectangles in strip of height H=1320.0\n",
      "        packing rectangles in strip of height H=1440.0\n",
      "RectPack: Required height = 1401, required length = 2233\n",
      "            found a layout that fits in that bin\n",
      "            running local optimization...\n",
      "Partition 10\n",
      "[[0], [1, 2, 7], [3, 8, 10, 11], [4, 6], [5], [9]]\n",
      "        packing rectangles in strip of height H=1200.0\n",
      "        packing rectangles in strip of height H=1320.0\n",
      "        packing rectangles in strip of height H=1440.0\n",
      "        packing rectangles in strip of height H=1200.0\n",
      "RectPack: Required height = 1162, required length = 2081\n",
      "            found a layout that fits in that bin\n",
      "            running local optimization...\n",
      "            the optimized layout fits the container height\n",
      "            the container length has not been improved\n",
      "        packing rectangles in strip of height H=1320.0\n",
      "RectPack: Required height = 1280, required length = 1983\n",
      "            found a layout that fits in that bin\n",
      "            running local optimization...\n",
      "        packing rectangles in strip of height H=1440.0\n",
      "RectPack: Required height = 1332, required length = 2151\n",
      "            found a layout that fits in that bin\n",
      "            running local optimization...\n",
      "        packing rectangles in strip of height H=1200.0\n",
      "RectPack: Required height = 1183, required length = 2372\n",
      "            found a layout that fits in that bin\n",
      "            running local optimization...\n",
      "            the optimized layout fits the container height\n",
      "            the container length has not been improved\n",
      "        packing rectangles in strip of height H=1320.0\n",
      "RectPack: Required height = 1280, required length = 2372\n",
      "            found a layout that fits in that bin\n",
      "            running local optimization...\n",
      "        packing rectangles in strip of height H=1440.0\n",
      "RectPack: Required height = 1351, required length = 2184\n",
      "            found a layout that fits in that bin\n",
      "            running local optimization...\n",
      "Partition 11\n",
      "[[0, 1, 2, 7], [3, 8, 10, 11], [4, 6], [5], [9]]\n",
      "        packing rectangles in strip of height H=1200.0\n",
      "        packing rectangles in strip of height H=1320.0\n",
      "RectPack: Required height = 1282, required length = 1881\n",
      "            found a layout that fits in that bin\n",
      "            running local optimization...\n",
      "        packing rectangles in strip of height H=1440.0\n",
      "RectPack: Required height = 1282, required length = 1881\n",
      "            found a layout that fits in that bin\n",
      "            running local optimization...\n",
      "        packing rectangles in strip of height H=1200.0\n",
      "RectPack: Required height = 1182, required length = 2062\n",
      "            found a layout that fits in that bin\n",
      "            running local optimization...\n",
      "            the optimized layout fits the container height\n",
      "            the container length has not been improved\n",
      "        packing rectangles in strip of height H=1320.0\n",
      "RectPack: Required height = 1182, required length = 2062\n",
      "            found a layout that fits in that bin\n",
      "            running local optimization...\n",
      "            the optimized layout fits the container height\n",
      "            the container length has not been improved\n",
      "        packing rectangles in strip of height H=1440.0\n",
      "RectPack: Required height = 1182, required length = 2161\n",
      "            found a layout that fits in that bin\n",
      "            running local optimization...\n",
      "            the optimized layout fits the container height\n",
      "            the container length has not been improved\n",
      "        packing rectangles in strip of height H=1200.0\n",
      "RectPack: Required height = 1182, required length = 2062\n",
      "            found a layout that fits in that bin\n",
      "            running local optimization...\n",
      "            the optimized layout fits the container height\n",
      "            the container length has not been improved\n",
      "        packing rectangles in strip of height H=1320.0\n",
      "RectPack: Required height = 1182, required length = 2062\n",
      "            found a layout that fits in that bin\n",
      "            running local optimization...\n",
      "            the optimized layout fits the container height\n",
      "            the container length has not been improved\n",
      "        packing rectangles in strip of height H=1440.0\n",
      "RectPack: Required height = 1182, required length = 2062\n",
      "            found a layout that fits in that bin\n",
      "            running local optimization...\n",
      "            the optimized layout fits the container height\n",
      "            the container length has not been improved\n",
      "Partition 12\n",
      "[[0, 1, 2, 7], [3, 8, 10, 11], [4, 6], [5, 9]]\n",
      "        packing rectangles in strip of height H=1200.0\n",
      "RectPack: Required height = 1182, required length = 1970\n",
      "            found a layout that fits in that bin\n",
      "            running local optimization...\n",
      "            the optimized layout fits the container height\n",
      "IMPROVED CONTAINER LENGTH: 1968.4102494411563\n",
      "{'0-1-2-7': (0, 0, 780, 1182, 0), '5-9': (780, 0, 788, 800, 0), '4-6': (780, 800, 1071, 301, 0), '3-8-10-11': (1568, 0, 402, 756, 0)}\n",
      "        packing rectangles in strip of height H=1320.0\n",
      "RectPack: Required height = 1190, required length = 1881\n",
      "            found a layout that fits in that bin\n",
      "            running local optimization...\n",
      "            the optimized layout fits the container height\n",
      "IMPROVED CONTAINER LENGTH: 1880.554557235711\n",
      "{'0-1-2-7': (0, 0, 780, 1182, 0), '5-9': (780, 0, 800, 788, 0), '4-6': (1580, 0, 301, 1071, 0), '3-8-10-11': (780, 788, 756, 402, 0)}\n",
      "        packing rectangles in strip of height H=1440.0\n",
      "RectPack: Required height = 1190, required length = 1881\n",
      "            found a layout that fits in that bin\n",
      "            running local optimization...\n",
      "            the optimized layout fits the container height\n",
      "            the container length has not been improved\n",
      "        packing rectangles in strip of height H=1200.0\n",
      "RectPack: Required height = 1182, required length = 1970\n",
      "            found a layout that fits in that bin\n",
      "            running local optimization...\n",
      "            the optimized layout fits the container height\n",
      "            the container length has not been improved\n",
      "        packing rectangles in strip of height H=1320.0\n",
      "RectPack: Required height = 1190, required length = 1881\n",
      "            found a layout that fits in that bin\n",
      "            running local optimization...\n",
      "            the optimized layout fits the container height\n",
      "            the container length has not been improved\n",
      "        packing rectangles in strip of height H=1440.0\n",
      "RectPack: Required height = 1190, required length = 1881\n",
      "            found a layout that fits in that bin\n",
      "            running local optimization...\n",
      "            the optimized layout fits the container height\n",
      "            the container length has not been improved\n",
      "        packing rectangles in strip of height H=1200.0\n",
      "RectPack: Required height = 1182, required length = 2253\n",
      "            found a layout that fits in that bin\n",
      "            running local optimization...\n",
      "            the optimized layout fits the container height\n",
      "            the container length has not been improved\n",
      "        packing rectangles in strip of height H=1320.0\n",
      "RectPack: Required height = 1182, required length = 2253\n",
      "            found a layout that fits in that bin\n",
      "            running local optimization...\n",
      "            the optimized layout fits the container height\n",
      "            the container length has not been improved\n",
      "        packing rectangles in strip of height H=1440.0\n",
      "RectPack: Required height = 1182, required length = 2253\n",
      "            found a layout that fits in that bin\n",
      "            running local optimization...\n",
      "            the optimized layout fits the container height\n",
      "            the container length has not been improved\n",
      "Partition 13\n",
      "[[0, 5, 9], [1, 2], [3, 8, 10, 11], [4, 6], [7]]\n",
      "        packing rectangles in strip of height H=1200.0\n",
      "        packing rectangles in strip of height H=1320.0\n",
      "        packing rectangles in strip of height H=1440.0\n",
      "        packing rectangles in strip of height H=1200.0\n",
      "        packing rectangles in strip of height H=1320.0\n",
      "        packing rectangles in strip of height H=1440.0\n",
      "RectPack: Required height = 1389, required length = 1873\n",
      "            found a layout that fits in that bin\n",
      "            running local optimization...\n",
      "        packing rectangles in strip of height H=1200.0\n",
      "        packing rectangles in strip of height H=1320.0\n",
      "        packing rectangles in strip of height H=1440.0\n",
      "RectPack: Required height = 1401, required length = 2187\n",
      "            found a layout that fits in that bin\n",
      "            running local optimization...\n",
      "Partition 14\n",
      "[[0, 5, 9], [1, 2, 7], [3, 8, 10], [4, 6, 11]]\n",
      "        packing rectangles in strip of height H=1200.0\n",
      "        packing rectangles in strip of height H=1320.0\n",
      "        packing rectangles in strip of height H=1440.0\n",
      "RectPack: Required height = 1389, required length = 1874\n",
      "            found a layout that fits in that bin\n",
      "            running local optimization...\n",
      "        packing rectangles in strip of height H=1200.0\n",
      "        packing rectangles in strip of height H=1320.0\n",
      "        packing rectangles in strip of height H=1440.0\n",
      "RectPack: Required height = 1389, required length = 1874\n",
      "            found a layout that fits in that bin\n",
      "            running local optimization...\n",
      "        packing rectangles in strip of height H=1200.0\n",
      "        packing rectangles in strip of height H=1320.0\n",
      "        packing rectangles in strip of height H=1440.0\n",
      "RectPack: Required height = 1406, required length = 1874\n",
      "            found a layout that fits in that bin\n",
      "            running local optimization...\n",
      "Running final optimization...\n",
      "Shifting rightmost piece from x_max=1880.554557235711 to 1850.559033049409\n",
      "Layout could not be improved by shifting the rightmost piece !\n",
      "===============\n",
      "Problem instance: PUZZLE3\n",
      "Number of rotations: 8\n",
      "Distance matrix and Nofit Functions: 0.00s\n",
      "52 TSPs (52 QUBOs): 143.71s\n",
      "Greedy packer: 79.16s\n",
      "Rectangular packer and local optimization: 65.63s\n",
      "Final optimization: 80.68s\n",
      "Total solver time: 369.17s\n",
      "Best layout found requires a length of 1880.44\n",
      "Layout area: 1919500.00\n",
      "Minimum sheet area: 2256527.65\n",
      "Wasted area: 337027.65\n",
      "Waste percentage: 14.94%\n",
      "Ordered partition used: \n",
      "[[0, 1, 2, 7], [3, 8, 10, 11], [4, 6], [5, 9]]\n",
      "===============\n"
     ]
    },
    {
     "data": {
      "text/plain": "<Figure size 432x288 with 1 Axes>",
      "image/png": "[encoded data removed]"
     },
     "metadata": {
      "needs_background": "light"
     },
     "output_type": "display_data"
    },
    {
     "data": {
      "text/plain": "<Figure size 432x288 with 1 Axes>",
      "image/png": "[encoded data removed]"
     },
     "metadata": {
      "needs_background": "light"
     },
     "output_type": "display_data"
    }
   ],
   "source": [
    "# solve the irregular packing problem\n",
    "layout, L_min, partition_name, rectangle_layout = quantum_packer.solve()\n",
    "\n",
    "# show the solution\n",
    "if layout == None:\n",
    "    print('WARNING: NO SOLUTION FOUND FOR 2D IRREGULAR STRIP PACKING PROBLEM ' + problem_instance)\n",
    "else:\n",
    "    rectangle_layout_title = 'Rectangle layout for ' + problem_instance\n",
    "    quantum_packer.show_layout(rectangle_layout, rectangle_layout_title, board_dimensions=(L_min, H))\n",
    "    title = 'Layout for ' + problem_instance\n",
    "    quantum_packer.show_layout(layout, title, board_dimensions=(L_min, H))"
   ],
   "metadata": {
    "collapsed": false,
    "pycharm": {
     "name": "#%%\n"
    }
   }
  },
  {
   "cell_type": "markdown",
   "source": [
    "## REFERENCES"
   ],
   "metadata": {
    "collapsed": false,
    "pycharm": {
     "name": "#%% md\n"
    }
   }
  },
  {
   "cell_type": "markdown",
   "source": [
    "- Farhi, Goldstone & Gutmann (2014). **A quantum approximate optimization algorithm**. *arXiv preprint arXiv:1411.4028*.\n",
    "- Hadfield, Wang, O’gorman, Rieffel, Venturelli & Biswas (2019). **From the quantum approximate optimization algorithm to a quantum alternating operator ansatz**. *Algorithms, 12(2), 34*.\n",
    "- Jylänki (2010). **A thousand ways to pack the bin-a practical approach to two-dimensional rectangle bin packing**. *retrived from http://clb. demon. fi/files/RectangleBinPack. pdf*.\n",
    "- Lucas (2014). **Ising formulations of many NP problems**. *Frontiers in physics, 2, 5*.\n",
    "- Oliveira, Gomes, & Ferreira (2000). **TOPOS–A new constructive algorithm for nesting problems**. *OR-Spektrum, 22, 263-284*.\n",
    "- Terada, Oku, Kanamaru, Tanaka, Hayashi, Yamaoka & Togawa. (2018, April). **An Ising model mapping to solve rectangle packing problem**. *In 2018 International Symposium on VLSI Design, Automation and Test (VLSI-DAT) (pp. 1-4). IEEE*."
   ],
   "metadata": {
    "collapsed": false,
    "pycharm": {
     "name": "#%% md\n"
    }
   }
  },
  {
   "cell_type": "code",
   "execution_count": null,
   "outputs": [],
   "source": [],
   "metadata": {
    "collapsed": false,
    "pycharm": {
     "name": "#%%\n"
    }
   }
  }
 ],
 "metadata": {
  "kernelspec": {
   "display_name": "Python 3",
   "language": "python",
   "name": "python3"
  },
  "language_info": {
   "codemirror_mode": {
    "name": "ipython",
    "version": 2
   },
   "file_extension": ".py",
   "mimetype": "text/x-python",
   "name": "python",
   "nbconvert_exporter": "python",
   "pygments_lexer": "ipython2",
   "version": "2.7.6"
  }
 },
 "nbformat": 4,
 "nbformat_minor": 0
}