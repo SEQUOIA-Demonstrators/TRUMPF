{
 "cells": [
  {
   "cell_type": "code",
   "source": [
    "from QUANTUM_PACKER import QUANTUM_PACKER\n",
    "from qiskit import Aer\n",
    "from qiskit import IBMQ\n",
    "from PACKING_PROBLEM_DATA_LOADER import PACKING_PROBLEM_DATA_LOADER"
   ],
   "metadata": {
    "collapsed": false,
    "pycharm": {
     "name": "#%%\n"
    }
   },
   "execution_count": 1,
   "outputs": []
  },
  {
   "cell_type": "markdown",
   "source": [
    "Import a packing problem instance. Choose from one of the following ones:\n",
    "\"PUZZLE1\", \"PUZZLE2\", \"PUZZLE3\", \"SHAPES1\", \"SHAPES2\", \"SHIRTS\", \"TROUSERS\", \"SWIM\". The variable pieces defines the list of polygons to pack. Each polygon is represented by a list of vertex coordinates $(x,y)$. The pieces must fit inside a rectangular container with fixed height, specified by the variable $H$. The strip packing problem consists in fitting all the pieces inside the container, avoiding overlap between the pieces and minimizing the container length $L$ needed, thereby minimizing the surface of material needed to produce the pieces."
   ],
   "metadata": {
    "collapsed": false,
    "pycharm": {
     "name": "#%% md\n"
    }
   }
  },
  {
   "cell_type": "code",
   "execution_count": 2,
   "outputs": [],
   "source": [
    "problem_instance = \"PUZZLE3\"\n",
    "packing_problem_data = PACKING_PROBLEM_DATA_LOADER(problem_instance)\n",
    "pieces = packing_problem_data.pieces\n",
    "H = packing_problem_data.height"
   ],
   "metadata": {
    "collapsed": false,
    "pycharm": {
     "name": "#%%\n"
    }
   }
  },
  {
   "cell_type": "markdown",
   "source": [
    "Define a quantum backend for executing QAOA circuits. Leave the fields API_TOKEN_DE and API_URL_DE blank if you do not have access to the IBM Quantum System One located in Ehningen, Germany. If you have access to another backend, you can use it by adapting the code specifying the provider and backend's name. By default, the following code will use the qasm simulator and run it on your PC."
   ],
   "metadata": {
    "collapsed": false,
    "pycharm": {
     "name": "#%% md\n"
    }
   }
  },
  {
   "cell_type": "code",
   "execution_count": 3,
   "outputs": [],
   "source": [
    "API_TOKEN_DE = ''\n",
    "API_URL_DE = ''\n",
    "if API_TOKEN_DE == '' and API_URL_DE == '':\n",
    "    solver_backend = Aer.get_backend('qasm_simulator')\n",
    "else:\n",
    "    IBMQ.enable_account(API_TOKEN_DE, API_URL_DE)\n",
    "    provider = IBMQ.get_provider(hub='fraunhofer-de', group='fhg-all')\n",
    "    solver_backend = provider.get_backend('ibmq_ehningen')"
   ],
   "metadata": {
    "collapsed": false,
    "pycharm": {
     "name": "#%%\n"
    }
   }
  },
  {
   "cell_type": "markdown",
   "source": [
    "Define a quantum simulator for optimizing the QAOA parameter vectors $\\beta$ and $\\gamma$ and specify the number of qubits available."
   ],
   "metadata": {
    "collapsed": false,
    "pycharm": {
     "name": "#%% md\n"
    }
   }
  },
  {
   "cell_type": "code",
   "execution_count": 4,
   "outputs": [],
   "source": [
    "num_qubits = 16\n",
    "backend = Aer.get_backend('qasm_simulator')"
   ],
   "metadata": {
    "collapsed": false,
    "pycharm": {
     "name": "#%%\n"
    }
   }
  },
  {
   "cell_type": "markdown",
   "source": [
    "Create an instance of the QUANTUM_PACKER class for solving the packing problem. Choose the number of angles of rotations allowed for the pieces, e.g. 0, 2 (0 and 180 degrees), 4 (multiples of 90 degrees), 8 (multiples of 45 degrees) or 16. Specify the number of partitions used to create random groups of geometrically compatible pieces, e.g. 50. The variable tsp_solver represents the algorithm used to solve the Traveling Salesman Problem (TSP). This can be 'BF' (brute force), 'QAOA' (Quantum Approximate Optimization Algorithm) or 'QAOA+' (Quantum Alternating Operator Ansatz). The maximum cluster size is fixed to $4$ for QAOA and QAOA+, which means that we cannot solve TSP instances with more than 4 cities. If you wish to use brute force to solve TSPs, you may increase the max_cluster_size up to $10$ cities."
   ],
   "metadata": {
    "collapsed": false,
    "pycharm": {
     "name": "#%% md\n"
    }
   }
  },
  {
   "cell_type": "code",
   "execution_count": 5,
   "outputs": [],
   "source": [
    "n_rotations = 8\n",
    "n_partitions = 50\n",
    "tsp_solver = 'QAOA'\n",
    "distance_threshold = 0.1\n",
    "max_cluster_size = 4\n",
    "quantum_packer = QUANTUM_PACKER(problem_instance, H, pieces, n_rotations,\n",
    "                                tsp_solver, distance_threshold, max_cluster_size, n_partitions,\n",
    "                                num_qubits, backend, solver_backend)"
   ],
   "metadata": {
    "collapsed": false,
    "pycharm": {
     "name": "#%%\n"
    }
   }
  },
  {
   "cell_type": "markdown",
   "source": [
    "Show the set of pieces to pack."
   ],
   "metadata": {
    "collapsed": false,
    "pycharm": {
     "name": "#%% md\n"
    }
   }
  },
  {
   "cell_type": "code",
   "execution_count": 6,
   "outputs": [
    {
     "data": {
      "text/plain": "<Figure size 432x288 with 1 Axes>",
      "image/png": "[encoded data removed]"
     },
     "metadata": {
      "needs_background": "light"
     },
     "output_type": "display_data"
    }
   ],
   "source": [
    "quantum_packer.show_pieces()"
   ],
   "metadata": {
    "collapsed": false,
    "pycharm": {
     "name": "#%%\n"
    }
   }
  },
  {
   "cell_type": "markdown",
   "source": [
    "Solve the packing problem and show the best layout found."
   ],
   "metadata": {
    "collapsed": false,
    "pycharm": {
     "name": "#%% md\n"
    }
   }
  },
  {
   "cell_type": "code",
   "execution_count": 7,
   "outputs": [
    {
     "name": "stdout",
     "output_type": "stream",
     "text": [
      "The distance matrix and nofit functions have already been pre-computed and will be directly loaded\n",
      "[[110332.9  99391.3 104405.9  88739.6  95897.1  89548.9 105074.1 141070.4\n",
      "   65864.4  49802.6  69743.3  79106.9]\n",
      " [ 99391.3  27301.8  75994.1  50006.6  69341.8  63188.8  84261.1  51924.6\n",
      "   46509.3 127987.4  69289.5  47487.5]\n",
      " [104405.9  75994.1  41237.7  50557.5  67522.6  83519.1  90059.7  40373.4\n",
      "   49663.4 134586.9  47421.4  45566.4]\n",
      " [ 88739.6  50006.6  50557.5  47631.1  56754.8  79854.5  73505.2  82376.9\n",
      "   23610.4 103540.   28144.   40057.7]\n",
      " [ 95897.1  69341.8  67522.6  56754.8  27838.9  60134.2  44784.5  86602.9\n",
      "   53706.2 102904.4  53073.4  47315.1]\n",
      " [ 89548.9  63188.8  83519.1  79854.5  60134.2  62295.9  75743.3 125825.1\n",
      "   50989.5  89455.6  70637.4  67416.2]\n",
      " [105074.1  84261.1  90059.7  73505.2  44784.5  75743.3  30438.6 114271.5\n",
      "   70000.3 128547.   69936.9  69327.5]\n",
      " [141070.4  51924.6  40373.4  82376.9  86602.9 125825.1 114271.5 104631.4\n",
      "   82237.3 172385.2  84117.9  84160.2]\n",
      " [ 65864.4  46509.3  49663.4  23610.4  53706.2  50989.5  70000.3  82237.3\n",
      "   21839.6 104484.2  47117.6  29162.8]\n",
      " [ 49802.6 127987.4 134586.9 103540.  102904.4  89455.6 128547.  172385.2\n",
      "  104484.2 111750.  102993.5 106092.4]\n",
      " [ 69743.3  69289.5  47421.4  28144.   53073.4  70637.4  69936.9  84117.9\n",
      "   47117.6 102993.5  51177.3  19505.1]\n",
      " [ 79106.9  47487.5  45566.4  40057.7  47315.1  67416.2  69327.5  84160.2\n",
      "   29162.8 106092.4  19505.1  16231.2]]\n",
      "$$ D = \\left[ \\begin{array}{rrrrrrrr}\n",
      "110332.9 & 99391.3 & 104405.9 & 88739.6 & 95897.1 & 89548.9 & 105074.1 & 141070.4 & 65864.4 & 49802.6 & 69743.3 & 79106.9 \\\\\n",
      "99391.3 & 27301.8 & 75994.1 & 50006.6 & 69341.8 & 63188.8 & 84261.1 & 51924.6 & 46509.3 & 127987.4 & 69289.5 & 47487.5 \\\\\n",
      "104405.9 & 75994.1 & 41237.7 & 50557.5 & 67522.6 & 83519.1 & 90059.7 & 40373.4 & 49663.4 & 134586.9 & 47421.4 & 45566.4 \\\\\n",
      "88739.6 & 50006.6 & 50557.5 & 47631.1 & 56754.8 & 79854.5 & 73505.2 & 82376.9 & 23610.4 & 103540.0 & 28144.0 & 40057.7 \\\\\n",
      "95897.1 & 69341.8 & 67522.6 & 56754.8 & 27838.9 & 60134.2 & 44784.5 & 86602.9 & 53706.2 & 102904.4 & 53073.4 & 47315.1 \\\\\n",
      "89548.9 & 63188.8 & 83519.1 & 79854.5 & 60134.2 & 62295.9 & 75743.3 & 125825.1 & 50989.5 & 89455.6 & 70637.4 & 67416.2 \\\\\n",
      "105074.1 & 84261.1 & 90059.7 & 73505.2 & 44784.5 & 75743.3 & 30438.6 & 114271.5 & 70000.3 & 128547.0 & 69936.9 & 69327.5 \\\\\n",
      "141070.4 & 51924.6 & 40373.4 & 82376.9 & 86602.9 & 125825.1 & 114271.5 & 104631.4 & 82237.3 & 172385.2 & 84117.9 & 84160.2 \\\\\n",
      "65864.4 & 46509.3 & 49663.4 & 23610.4 & 53706.2 & 50989.5 & 70000.3 & 82237.3 & 21839.6 & 104484.2 & 47117.6 & 29162.8 \\\\\n",
      "49802.6 & 127987.4 & 134586.9 & 103540.0 & 102904.4 & 89455.6 & 128547.0 & 172385.2 & 104484.2 & 111750.0 & 102993.5 & 106092.4 \\\\\n",
      "69743.3 & 69289.5 & 47421.4 & 28144.0 & 53073.4 & 70637.4 & 69936.9 & 84117.9 & 47117.6 & 102993.5 & 51177.3 & 19505.1 \\\\\n",
      "79106.9 & 47487.5 & 45566.4 & 40057.7 & 47315.1 & 67416.2 & 69327.5 & 84160.2 & 29162.8 & 106092.4 & 19505.1 & 16231.2 \\\\\n",
      "\\end{array}\\right] $$\n",
      "$$ GI = \\left[ \\begin{array}{rrrrrrrr}\n",
      "0.148 & 0.168 & 0.171 & 0.178 & 0.170 & 0.151 & 0.183 & 0.236 & 0.147 & 0.073 & 0.148 & 0.180 \\\\\n",
      "0.168 & 0.072 & 0.172 & 0.157 & 0.176 & 0.148 & 0.205 & 0.142 & 0.163 & 0.205 & 0.210 & 0.178 \\\\\n",
      "0.171 & 0.172 & 0.098 & 0.151 & 0.165 & 0.181 & 0.208 & 0.109 & 0.163 & 0.209 & 0.147 & 0.162 \\\\\n",
      "0.178 & 0.157 & 0.151 & 0.203 & 0.189 & 0.221 & 0.230 & 0.261 & 0.130 & 0.200 & 0.136 & 0.225 \\\\\n",
      "0.170 & 0.176 & 0.165 & 0.189 & 0.085 & 0.151 & 0.129 & 0.230 & 0.200 & 0.179 & 0.184 & 0.195 \\\\\n",
      "0.151 & 0.148 & 0.181 & 0.221 & 0.151 & 0.143 & 0.182 & 0.278 & 0.169 & 0.150 & 0.206 & 0.225 \\\\\n",
      "0.183 & 0.205 & 0.208 & 0.230 & 0.129 & 0.182 & 0.091 & 0.281 & 0.245 & 0.214 & 0.228 & 0.261 \\\\\n",
      "0.236 & 0.142 & 0.109 & 0.261 & 0.230 & 0.278 & 0.281 & 0.272 & 0.287 & 0.273 & 0.272 & 0.313 \\\\\n",
      "0.147 & 0.163 & 0.163 & 0.130 & 0.200 & 0.169 & 0.245 & 0.287 & 0.146 & 0.214 & 0.240 & 0.212 \\\\\n",
      "0.073 & 0.205 & 0.209 & 0.200 & 0.179 & 0.150 & 0.214 & 0.273 & 0.214 & 0.149 & 0.203 & 0.225 \\\\\n",
      "0.148 & 0.210 & 0.147 & 0.136 & 0.184 & 0.206 & 0.228 & 0.272 & 0.240 & 0.203 & 0.231 & 0.131 \\\\\n",
      "0.180 & 0.178 & 0.162 & 0.225 & 0.195 & 0.225 & 0.261 & 0.313 & 0.212 & 0.225 & 0.131 & 0.154 \\\\\n",
      "\\end{array}\\right] $$\n",
      "Partitioning the set of pieces using stochastic agglomerative clustering:\n",
      "1.  [[0], [1], [2], [3], [4], [5], [6], [7], [8], [9], [10], [11]]\n",
      "2.  [[0, 9], [1], [2], [3], [4], [5], [6], [7], [8], [10], [11]]\n",
      "Solving 13 TSP problems...\n",
      "Solving TSPs using QAOA...\n",
      "Creating a list of 13 QAOA circuits\n",
      "QAOA circuit has depth 7 and uses 0 CNOT gate(s)\n",
      "    optimized QAOA circuit parameters:  [0.19057778 0.83218786 0.8996145  0.89451107 0.6632427 ]\n",
      "QAOA circuit has depth 7 and uses 0 CNOT gate(s)\n",
      "    optimized QAOA circuit parameters:  [0.36082436 0.66552907 0.18964838 0.27707268 0.13588446]\n",
      "QAOA circuit has depth 7 and uses 0 CNOT gate(s)\n",
      "    optimized QAOA circuit parameters:  [0.30381872 0.29013356 0.88094864 0.65544756 0.42504927]\n",
      "QAOA circuit has depth 7 and uses 0 CNOT gate(s)\n",
      "    optimized QAOA circuit parameters:  [0.26681841 0.61528911 0.73955241 0.62128247 0.67984684]\n",
      "QAOA circuit has depth 7 and uses 0 CNOT gate(s)\n",
      "    optimized QAOA circuit parameters:  [0.197034   0.26808788 0.04705194 0.36652804 0.59447578]\n",
      "QAOA circuit has depth 7 and uses 0 CNOT gate(s)\n",
      "    optimized QAOA circuit parameters:  [0.05629747 0.18428132 0.71034492 0.2972416  0.01055293]\n",
      "QAOA circuit has depth 7 and uses 0 CNOT gate(s)\n",
      "    optimized QAOA circuit parameters:  [0.72875157 0.47332172 0.94966459 0.74796232 0.1417685 ]\n",
      "QAOA circuit has depth 7 and uses 0 CNOT gate(s)\n",
      "    optimized QAOA circuit parameters:  [0.07503638 0.39953919 0.57676063 0.19796609 0.80212298]\n",
      "QAOA circuit has depth 7 and uses 0 CNOT gate(s)\n",
      "    optimized QAOA circuit parameters:  [0.55322343 0.89751541 0.83107387 0.40556699 0.16225172]\n",
      "QAOA circuit has depth 7 and uses 0 CNOT gate(s)\n",
      "    optimized QAOA circuit parameters:  [0.88161208 0.16780609 0.46076144 0.77574144 0.68194291]\n",
      "QAOA circuit has depth 7 and uses 0 CNOT gate(s)\n",
      "    optimized QAOA circuit parameters:  [0.09648214 0.31049812 0.67455243 0.41402751 0.00502343]\n",
      "QAOA circuit has depth 7 and uses 0 CNOT gate(s)\n",
      "    optimized QAOA circuit parameters:  [0.90205777 0.37337298 0.90929409 0.18535723 0.66765853]\n",
      "QAOA circuit has depth 40 and uses 40 CNOT gate(s)\n",
      "    optimized QAOA circuit parameters:  [ 1.00683092  1.92356848  0.7407867   0.17014198  0.76081493  0.73578009\n",
      "  0.71549021 -0.00856373  0.30160989  0.74845605]\n",
      "Executing the list of quantum circuits\n",
      "TSP problem #1 for set of pieces {0} REF:0\n",
      "TSP problem #2 for set of pieces {1} REF:1\n",
      "TSP problem #3 for set of pieces {2} REF:2\n",
      "TSP problem #4 for set of pieces {3} REF:3\n",
      "TSP problem #5 for set of pieces {4} REF:4\n",
      "TSP problem #6 for set of pieces {5} REF:5\n",
      "TSP problem #7 for set of pieces {6} REF:6\n",
      "TSP problem #8 for set of pieces {7} REF:7\n",
      "TSP problem #9 for set of pieces {8} REF:8\n",
      "TSP problem #10 for set of pieces {9} REF:9\n",
      "TSP problem #11 for set of pieces {10} REF:10\n",
      "TSP problem #12 for set of pieces {11} REF:11\n",
      "TSP problem #13 for set of pieces {0,9} REF:0-9\n",
      "Packing pieces in 13 rectangles...\n",
      "Packing pieces 0\n",
      "Packing pieces 1\n",
      "Packing pieces 2\n",
      "Packing pieces 3\n",
      "Packing pieces 4\n",
      "Packing pieces 5\n",
      "Packing pieces 6\n",
      "Packing pieces 7\n",
      "Packing pieces 8\n",
      "Packing pieces 9\n",
      "Packing pieces 10\n",
      "Packing pieces 11\n",
      "Packing pieces 0-9\n",
      "Generating partitions:\n",
      "     [[0, 5, 9], [1, 2, 4, 7], [3, 8, 10, 11], [6]]\n",
      "     [[0, 5, 9], [1, 7], [2], [3, 8, 10, 11], [4, 6]]\n",
      "     [[0, 5, 9], [1, 7], [2, 11], [3, 8, 10], [4, 6]]\n",
      "     [[0, 9], [1], [2, 7], [3, 8, 10], [4, 6], [5], [11]]\n",
      "     [[0, 1, 5, 9], [2, 7], [3, 8, 10, 11], [4, 6]]\n",
      "     [[0, 5, 9], [1, 2, 4, 7], [3, 10, 11], [6], [8]]\n",
      "     [[0, 5, 9], [1], [2], [3, 8, 10, 11], [4, 6], [7]]\n",
      "     [[0, 9], [1, 2, 4, 7], [3, 8, 10, 11], [5], [6]]\n",
      "     [[0, 5, 9], [1], [2, 7], [3, 8, 10, 11], [4, 6]]\n",
      "     [[0, 5, 9], [1, 7], [2], [3, 10, 11], [4, 6], [8]]\n",
      "     [[0, 5, 9], [1, 8], [2, 7], [3, 10, 11], [4, 6]]\n",
      "     [[0, 1, 5, 9], [2], [3, 8, 10, 11], [4, 6], [7]]\n",
      "     [[0, 5, 9], [1, 2, 4, 7], [3, 8, 10], [6], [11]]\n",
      "     [[0, 9], [1, 5], [2], [3, 8, 10, 11], [4, 6], [7]]\n",
      "     [[0, 5, 9], [1, 7], [2], [3, 8, 10], [4, 6], [11]]\n",
      "     [[0], [1, 2, 4, 7], [3, 8, 10, 11], [5], [6], [9]]\n",
      "     [[0, 5, 9], [1], [2, 7], [3, 10, 11], [4, 6], [8]]\n",
      "===============\n",
      "Partition 1\n",
      "[[0, 5, 9], [1, 2, 4, 7], [3, 8, 10, 11], [6]]\n",
      "        packing rectangles in strip of height H=1200.0\n",
      "RectPack: Required height = 1088, required length = 2201\n",
      "            found a layout that fits in that bin\n"
     ]
    },
    {
     "name": "stderr",
     "output_type": "stream",
     "text": [
      "C:\\Users\\pam\\PycharmProjects\\QuantumPacker\\QUANTUM_PACKER.py:787: ShapelyDeprecationWarning: __len__ for multi-part geometries is deprecated and will be removed in Shapely 2.0. Check the length of the `geoms` property instead to get the  number of parts of a multi-part geometry.\n",
      "  layout += list(packed_pieces)\n",
      "C:\\Users\\pam\\PycharmProjects\\QuantumPacker\\QUANTUM_PACKER.py:787: ShapelyDeprecationWarning: Iteration over multi-part geometries is deprecated and will be removed in Shapely 2.0. Use the `geoms` property to access the constituent parts of a multi-part geometry.\n",
      "  layout += list(packed_pieces)\n"
     ]
    },
    {
     "name": "stdout",
     "output_type": "stream",
     "text": [
      "            running local optimization...\n",
      "            the optimized layout fits the container height\n",
      "IMPROVED CONTAINER LENGTH: 1931.0\n",
      "{'0-5-9': (0, 0, 800, 1088, 0), '1-2-4-7': (800, 0, 701, 1033, 0), '3-8-10-11': (1501, 0, 402, 756, 0), '6': (1501, 756, 700, 300, 0)}\n",
      "        packing rectangles in strip of height H=1320.0\n",
      "RectPack: Required height = 1088, required length = 2201\n",
      "            found a layout that fits in that bin\n",
      "            running local optimization...\n",
      "            the optimized layout fits the container height\n",
      "            the container length has not been improved\n",
      "        packing rectangles in strip of height H=1440.0\n",
      "RectPack: Required height = 1435, required length = 1556\n",
      "            found a layout that fits in that bin\n",
      "            running local optimization...\n",
      "        packing rectangles in strip of height H=1200.0\n",
      "        packing rectangles in strip of height H=1320.0\n",
      "        packing rectangles in strip of height H=1440.0\n",
      "RectPack: Required height = 1403, required length = 1833\n",
      "            found a layout that fits in that bin\n",
      "            running local optimization...\n",
      "        packing rectangles in strip of height H=1200.0\n",
      "RectPack: Required height = 1102, required length = 2257\n",
      "            found a layout that fits in that bin\n",
      "            running local optimization...\n",
      "            the optimized layout fits the container height\n",
      "            the container length has not been improved\n",
      "        packing rectangles in strip of height H=1320.0\n",
      "RectPack: Required height = 1088, required length = 2257\n",
      "            found a layout that fits in that bin\n",
      "            running local optimization...\n",
      "            the optimized layout fits the container height\n",
      "            the container length has not been improved\n",
      "        packing rectangles in strip of height H=1440.0\n",
      "RectPack: Required height = 1435, required length = 1556\n",
      "            found a layout that fits in that bin\n",
      "            running local optimization...\n",
      "Partition 2\n",
      "[[0, 5, 9], [1, 7], [2], [3, 8, 10, 11], [4, 6]]\n",
      "        packing rectangles in strip of height H=1200.0\n",
      "        packing rectangles in strip of height H=1320.0\n",
      "        packing rectangles in strip of height H=1440.0\n",
      "RectPack: Required height = 1389, required length = 1903\n",
      "            found a layout that fits in that bin\n",
      "            running local optimization...\n",
      "        packing rectangles in strip of height H=1200.0\n",
      "        packing rectangles in strip of height H=1320.0\n",
      "        packing rectangles in strip of height H=1440.0\n",
      "RectPack: Required height = 1389, required length = 1853\n",
      "            found a layout that fits in that bin\n",
      "            running local optimization...\n",
      "        packing rectangles in strip of height H=1200.0\n",
      "        packing rectangles in strip of height H=1320.0\n",
      "        packing rectangles in strip of height H=1440.0\n",
      "RectPack: Required height = 1389, required length = 2108\n",
      "            found a layout that fits in that bin\n",
      "            running local optimization...\n",
      "Partition 3\n",
      "[[0, 5, 9], [1, 7], [2, 11], [3, 8, 10], [4, 6]]\n",
      "        packing rectangles in strip of height H=1200.0\n",
      "        packing rectangles in strip of height H=1320.0\n",
      "        packing rectangles in strip of height H=1440.0\n",
      "        packing rectangles in strip of height H=1200.0\n",
      "        packing rectangles in strip of height H=1320.0\n",
      "        packing rectangles in strip of height H=1440.0\n",
      "        packing rectangles in strip of height H=1200.0\n",
      "RectPack: Required height = 1088, required length = 2273\n",
      "            found a layout that fits in that bin\n",
      "            running local optimization...\n",
      "            the optimized layout fits the container height\n",
      "            the container length has not been improved\n",
      "        packing rectangles in strip of height H=1320.0\n",
      "RectPack: Required height = 1088, required length = 2273\n",
      "            found a layout that fits in that bin\n",
      "            running local optimization...\n",
      "            the optimized layout fits the container height\n",
      "            the container length has not been improved\n",
      "        packing rectangles in strip of height H=1440.0\n",
      "RectPack: Required height = 1389, required length = 2233\n",
      "            found a layout that fits in that bin\n",
      "            running local optimization...\n",
      "Partition 4\n",
      "[[0, 9], [1], [2, 7], [3, 8, 10], [4, 6], [5], [11]]\n",
      "        packing rectangles in strip of height H=1200.0\n",
      "        packing rectangles in strip of height H=1320.0\n",
      "        packing rectangles in strip of height H=1440.0\n",
      "        packing rectangles in strip of height H=1200.0\n",
      "        packing rectangles in strip of height H=1320.0\n",
      "RectPack: Required height = 1202, required length = 2081\n",
      "            found a layout that fits in that bin\n",
      "            running local optimization...\n",
      "        packing rectangles in strip of height H=1440.0\n",
      "RectPack: Required height = 1435, required length = 2103\n",
      "            found a layout that fits in that bin\n",
      "            running local optimization...\n",
      "        packing rectangles in strip of height H=1200.0\n",
      "        packing rectangles in strip of height H=1320.0\n",
      "RectPack: Required height = 1283, required length = 2025\n",
      "            found a layout that fits in that bin\n",
      "            running local optimization...\n",
      "        packing rectangles in strip of height H=1440.0\n",
      "RectPack: Required height = 1382, required length = 2253\n",
      "            found a layout that fits in that bin\n",
      "            running local optimization...\n",
      "Partition 5\n",
      "[[0, 1, 5, 9], [2, 7], [3, 8, 10, 11], [4, 6]]\n",
      "        packing rectangles in strip of height H=1200.0\n",
      "        packing rectangles in strip of height H=1320.0\n",
      "        packing rectangles in strip of height H=1440.0\n",
      "RectPack: Required height = 1438, required length = 1871\n",
      "            found a layout that fits in that bin\n",
      "            running local optimization...\n",
      "        packing rectangles in strip of height H=1200.0\n",
      "        packing rectangles in strip of height H=1320.0\n",
      "RectPack: Required height = 1202, required length = 2019\n",
      "            found a layout that fits in that bin\n",
      "            running local optimization...\n",
      "        packing rectangles in strip of height H=1440.0\n",
      "RectPack: Required height = 1438, required length = 1871\n",
      "            found a layout that fits in that bin\n",
      "            running local optimization...\n",
      "        packing rectangles in strip of height H=1200.0\n",
      "RectPack: Required height = 1101, required length = 2194\n",
      "            found a layout that fits in that bin\n",
      "            running local optimization...\n",
      "            the optimized layout fits the container height\n",
      "            the container length has not been improved\n",
      "        packing rectangles in strip of height H=1320.0\n",
      "RectPack: Required height = 1202, required length = 2139\n",
      "            found a layout that fits in that bin\n",
      "            running local optimization...\n",
      "        packing rectangles in strip of height H=1440.0\n",
      "RectPack: Required height = 1438, required length = 2084\n",
      "            found a layout that fits in that bin\n",
      "            running local optimization...\n",
      "Partition 6\n",
      "[[0, 5, 9], [1, 2, 4, 7], [3, 10, 11], [6], [8]]\n",
      "        packing rectangles in strip of height H=1200.0\n",
      "        packing rectangles in strip of height H=1320.0\n",
      "        packing rectangles in strip of height H=1440.0\n",
      "RectPack: Required height = 1401, required length = 1901\n",
      "            found a layout that fits in that bin\n",
      "            running local optimization...\n",
      "        packing rectangles in strip of height H=1200.0\n",
      "RectPack: Required height = 1101, required length = 2124\n",
      "            found a layout that fits in that bin\n",
      "            running local optimization...\n",
      "            the optimized layout fits the container height\n",
      "            the container length has not been improved\n",
      "        packing rectangles in strip of height H=1320.0\n",
      "RectPack: Required height = 1301, required length = 2124\n",
      "            found a layout that fits in that bin\n",
      "            running local optimization...\n",
      "        packing rectangles in strip of height H=1440.0\n",
      "RectPack: Required height = 1401, required length = 2033\n",
      "            found a layout that fits in that bin\n",
      "            running local optimization...\n",
      "        packing rectangles in strip of height H=1200.0\n",
      "RectPack: Required height = 1101, required length = 2201\n",
      "            found a layout that fits in that bin\n",
      "            running local optimization...\n",
      "            the optimized layout fits the container height\n",
      "            the container length has not been improved\n",
      "        packing rectangles in strip of height H=1320.0\n",
      "RectPack: Required height = 1288, required length = 2201\n",
      "            found a layout that fits in that bin\n",
      "            running local optimization...\n",
      "        packing rectangles in strip of height H=1440.0\n",
      "RectPack: Required height = 1434, required length = 1623\n",
      "            found a layout that fits in that bin\n",
      "            running local optimization...\n",
      "Partition 7\n",
      "[[0, 5, 9], [1], [2], [3, 8, 10, 11], [4, 6], [7]]\n",
      "        packing rectangles in strip of height H=1200.0\n",
      "        packing rectangles in strip of height H=1320.0\n",
      "        packing rectangles in strip of height H=1440.0\n",
      "        packing rectangles in strip of height H=1200.0\n",
      "        packing rectangles in strip of height H=1320.0\n",
      "        packing rectangles in strip of height H=1440.0\n",
      "        packing rectangles in strip of height H=1200.0\n",
      "RectPack: Required height = 1156, required length = 2233\n",
      "            found a layout that fits in that bin\n",
      "            running local optimization...\n",
      "            the optimized layout fits the container height\n",
      "            the container length has not been improved\n",
      "        packing rectangles in strip of height H=1320.0\n",
      "RectPack: Required height = 1132, required length = 2257\n",
      "            found a layout that fits in that bin\n",
      "            running local optimization...\n",
      "            the optimized layout fits the container height\n",
      "            the container length has not been improved\n",
      "        packing rectangles in strip of height H=1440.0\n",
      "RectPack: Required height = 1389, required length = 2282\n",
      "            found a layout that fits in that bin\n",
      "            running local optimization...\n",
      "Partition 8\n",
      "[[0, 9], [1, 2, 4, 7], [3, 8, 10, 11], [5], [6]]\n",
      "        packing rectangles in strip of height H=1200.0\n",
      "        packing rectangles in strip of height H=1320.0\n",
      "        packing rectangles in strip of height H=1440.0\n",
      "RectPack: Required height = 1435, required length = 1882\n",
      "            found a layout that fits in that bin\n",
      "            running local optimization...\n",
      "        packing rectangles in strip of height H=1200.0\n",
      "        packing rectangles in strip of height H=1320.0\n",
      "RectPack: Required height = 1303, required length = 2081\n",
      "            found a layout that fits in that bin\n",
      "            running local optimization...\n",
      "        packing rectangles in strip of height H=1440.0\n",
      "RectPack: Required height = 1435, required length = 1882\n",
      "            found a layout that fits in that bin\n",
      "            running local optimization...\n",
      "        packing rectangles in strip of height H=1200.0\n",
      "RectPack: Required height = 1182, required length = 2257\n",
      "            found a layout that fits in that bin\n",
      "            running local optimization...\n",
      "            the optimized layout fits the container height\n",
      "            the container length has not been improved\n",
      "        packing rectangles in strip of height H=1320.0\n",
      "RectPack: Required height = 1303, required length = 2281\n",
      "            found a layout that fits in that bin\n",
      "            running local optimization...\n",
      "        packing rectangles in strip of height H=1440.0\n",
      "RectPack: Required height = 1435, required length = 2281\n",
      "            found a layout that fits in that bin\n",
      "            running local optimization...\n",
      "Partition 9\n",
      "[[0, 5, 9], [1], [2, 7], [3, 8, 10, 11], [4, 6]]\n",
      "        packing rectangles in strip of height H=1200.0\n",
      "        packing rectangles in strip of height H=1320.0\n",
      "        packing rectangles in strip of height H=1440.0\n",
      "RectPack: Required height = 1389, required length = 1903\n",
      "            found a layout that fits in that bin\n",
      "            running local optimization...\n",
      "        packing rectangles in strip of height H=1200.0\n",
      "        packing rectangles in strip of height H=1320.0\n",
      "        packing rectangles in strip of height H=1440.0\n",
      "RectPack: Required height = 1389, required length = 1823\n",
      "            found a layout that fits in that bin\n",
      "            running local optimization...\n",
      "        packing rectangles in strip of height H=1200.0\n",
      "        packing rectangles in strip of height H=1320.0\n",
      "        packing rectangles in strip of height H=1440.0\n",
      "RectPack: Required height = 1389, required length = 2137\n",
      "            found a layout that fits in that bin\n",
      "            running local optimization...\n",
      "Partition 10\n",
      "[[0, 5, 9], [1, 7], [2], [3, 10, 11], [4, 6], [8]]\n",
      "        packing rectangles in strip of height H=1200.0\n",
      "        packing rectangles in strip of height H=1320.0\n",
      "        packing rectangles in strip of height H=1440.0\n",
      "RectPack: Required height = 1389, required length = 1881\n",
      "            found a layout that fits in that bin\n",
      "            running local optimization...\n",
      "        packing rectangles in strip of height H=1200.0\n",
      "        packing rectangles in strip of height H=1320.0\n",
      "        packing rectangles in strip of height H=1440.0\n",
      "RectPack: Required height = 1389, required length = 2124\n",
      "            found a layout that fits in that bin\n",
      "            running local optimization...\n",
      "        packing rectangles in strip of height H=1200.0\n",
      "RectPack: Required height = 1101, required length = 2276\n",
      "            found a layout that fits in that bin\n",
      "            running local optimization...\n",
      "            the optimized layout fits the container height\n",
      "            the container length has not been improved\n",
      "        packing rectangles in strip of height H=1320.0\n",
      "RectPack: Required height = 1301, required length = 2276\n",
      "            found a layout that fits in that bin\n",
      "            running local optimization...\n",
      "        packing rectangles in strip of height H=1440.0\n",
      "RectPack: Required height = 1389, required length = 1753\n",
      "            found a layout that fits in that bin\n",
      "            running local optimization...\n",
      "Partition 11\n",
      "[[0, 5, 9], [1, 8], [2, 7], [3, 10, 11], [4, 6]]\n",
      "        packing rectangles in strip of height H=1200.0\n",
      "        packing rectangles in strip of height H=1320.0\n",
      "        packing rectangles in strip of height H=1440.0\n",
      "RectPack: Required height = 1433, required length = 1694\n",
      "            found a layout that fits in that bin\n",
      "            running local optimization...\n",
      "        packing rectangles in strip of height H=1200.0\n",
      "        packing rectangles in strip of height H=1320.0\n",
      "        packing rectangles in strip of height H=1440.0\n",
      "RectPack: Required height = 1389, required length = 2124\n",
      "            found a layout that fits in that bin\n",
      "            running local optimization...\n",
      "        packing rectangles in strip of height H=1200.0\n",
      "RectPack: Required height = 1101, required length = 2305\n",
      "            found a layout that fits in that bin\n",
      "            running local optimization...\n",
      "            the optimized layout fits the container height\n",
      "            the container length has not been improved\n",
      "        packing rectangles in strip of height H=1320.0\n",
      "RectPack: Required height = 1101, required length = 2305\n",
      "            found a layout that fits in that bin\n",
      "            running local optimization...\n",
      "            the optimized layout fits the container height\n",
      "            the container length has not been improved\n",
      "        packing rectangles in strip of height H=1440.0\n",
      "RectPack: Required height = 1401, required length = 1782\n",
      "            found a layout that fits in that bin\n",
      "            running local optimization...\n",
      "Partition 12\n",
      "[[0, 1, 5, 9], [2], [3, 8, 10, 11], [4, 6], [7]]\n",
      "        packing rectangles in strip of height H=1200.0\n",
      "        packing rectangles in strip of height H=1320.0\n",
      "        packing rectangles in strip of height H=1440.0\n",
      "RectPack: Required height = 1438, required length = 1900\n",
      "            found a layout that fits in that bin\n",
      "            running local optimization...\n",
      "        packing rectangles in strip of height H=1200.0\n",
      "        packing rectangles in strip of height H=1320.0\n",
      "        packing rectangles in strip of height H=1440.0\n",
      "RectPack: Required height = 1438, required length = 1902\n",
      "            found a layout that fits in that bin\n",
      "            running local optimization...\n",
      "        packing rectangles in strip of height H=1200.0\n",
      "RectPack: Required height = 1200, required length = 2194\n",
      "            found a layout that fits in that bin\n",
      "            running local optimization...\n",
      "            the optimized layout fits the container height\n",
      "            the container length has not been improved\n",
      "        packing rectangles in strip of height H=1320.0\n",
      "RectPack: Required height = 1202, required length = 2227\n",
      "            found a layout that fits in that bin\n",
      "            running local optimization...\n",
      "        packing rectangles in strip of height H=1440.0\n",
      "RectPack: Required height = 1438, required length = 2257\n",
      "            found a layout that fits in that bin\n",
      "            running local optimization...\n",
      "Partition 13\n",
      "[[0, 5, 9], [1, 2, 4, 7], [3, 8, 10], [6], [11]]\n",
      "        packing rectangles in strip of height H=1200.0\n",
      "        packing rectangles in strip of height H=1320.0\n",
      "        packing rectangles in strip of height H=1440.0\n",
      "RectPack: Required height = 1401, required length = 1902\n",
      "            found a layout that fits in that bin\n",
      "            running local optimization...\n",
      "        packing rectangles in strip of height H=1200.0\n",
      "        packing rectangles in strip of height H=1320.0\n",
      "        packing rectangles in strip of height H=1440.0\n",
      "RectPack: Required height = 1401, required length = 2013\n",
      "            found a layout that fits in that bin\n",
      "            running local optimization...\n",
      "        packing rectangles in strip of height H=1200.0\n",
      "RectPack: Required height = 1102, required length = 2201\n",
      "            found a layout that fits in that bin\n",
      "            running local optimization...\n",
      "            the optimized layout fits the container height\n",
      "            the container length has not been improved\n",
      "        packing rectangles in strip of height H=1320.0\n",
      "RectPack: Required height = 1268, required length = 2201\n",
      "            found a layout that fits in that bin\n",
      "            running local optimization...\n",
      "        packing rectangles in strip of height H=1440.0\n",
      "RectPack: Required height = 1435, required length = 1654\n",
      "            found a layout that fits in that bin\n",
      "            running local optimization...\n",
      "Partition 14\n",
      "[[0, 9], [1, 5], [2], [3, 8, 10, 11], [4, 6], [7]]\n",
      "        packing rectangles in strip of height H=1200.0\n",
      "        packing rectangles in strip of height H=1320.0\n",
      "        packing rectangles in strip of height H=1440.0\n",
      "RectPack: Required height = 1359, required length = 1882\n",
      "            found a layout that fits in that bin\n",
      "            running local optimization...\n",
      "        packing rectangles in strip of height H=1200.0\n",
      "        packing rectangles in strip of height H=1320.0\n",
      "RectPack: Required height = 1202, required length = 2113\n",
      "            found a layout that fits in that bin\n",
      "            running local optimization...\n",
      "        packing rectangles in strip of height H=1440.0\n",
      "RectPack: Required height = 1400, required length = 1981\n",
      "            found a layout that fits in that bin\n",
      "            running local optimization...\n",
      "        packing rectangles in strip of height H=1200.0\n",
      "        packing rectangles in strip of height H=1320.0\n",
      "RectPack: Required height = 1202, required length = 2137\n",
      "            found a layout that fits in that bin\n",
      "            running local optimization...\n",
      "        packing rectangles in strip of height H=1440.0\n",
      "RectPack: Required height = 1202, required length = 2151\n",
      "            found a layout that fits in that bin\n",
      "            running local optimization...\n",
      "Partition 15\n",
      "[[0, 5, 9], [1, 7], [2], [3, 8, 10], [4, 6], [11]]\n",
      "        packing rectangles in strip of height H=1200.0\n",
      "        packing rectangles in strip of height H=1320.0\n",
      "        packing rectangles in strip of height H=1440.0\n",
      "RectPack: Required height = 1389, required length = 1903\n",
      "            found a layout that fits in that bin\n",
      "            running local optimization...\n",
      "        packing rectangles in strip of height H=1200.0\n",
      "        packing rectangles in strip of height H=1320.0\n",
      "        packing rectangles in strip of height H=1440.0\n",
      "RectPack: Required height = 1389, required length = 1771\n",
      "            found a layout that fits in that bin\n",
      "            running local optimization...\n",
      "        packing rectangles in strip of height H=1200.0\n",
      "        packing rectangles in strip of height H=1320.0\n",
      "        packing rectangles in strip of height H=1440.0\n",
      "RectPack: Required height = 1389, required length = 2132\n",
      "            found a layout that fits in that bin\n",
      "            running local optimization...\n",
      "Partition 16\n",
      "[[0], [1, 2, 4, 7], [3, 8, 10, 11], [5], [6], [9]]\n",
      "        packing rectangles in strip of height H=1200.0\n",
      "        packing rectangles in strip of height H=1320.0\n",
      "        packing rectangles in strip of height H=1440.0\n",
      "RectPack: Required height = 1380, required length = 1903\n",
      "            found a layout that fits in that bin\n",
      "            running local optimization...\n",
      "        packing rectangles in strip of height H=1200.0\n",
      "        packing rectangles in strip of height H=1320.0\n",
      "        packing rectangles in strip of height H=1440.0\n",
      "RectPack: Required height = 1380, required length = 1863\n",
      "            found a layout that fits in that bin\n",
      "            running local optimization...\n",
      "        packing rectangles in strip of height H=1200.0\n",
      "RectPack: Required height = 1182, required length = 2181\n",
      "            found a layout that fits in that bin\n",
      "            running local optimization...\n",
      "            the optimized layout fits the container height\n",
      "            the container length has not been improved\n",
      "        packing rectangles in strip of height H=1320.0\n",
      "RectPack: Required height = 1280, required length = 2261\n",
      "            found a layout that fits in that bin\n",
      "            running local optimization...\n",
      "        packing rectangles in strip of height H=1440.0\n",
      "RectPack: Required height = 1333, required length = 2261\n",
      "            found a layout that fits in that bin\n",
      "            running local optimization...\n",
      "Partition 17\n",
      "[[0, 5, 9], [1], [2, 7], [3, 10, 11], [4, 6], [8]]\n",
      "        packing rectangles in strip of height H=1200.0\n",
      "        packing rectangles in strip of height H=1320.0\n",
      "        packing rectangles in strip of height H=1440.0\n",
      "RectPack: Required height = 1389, required length = 1902\n",
      "            found a layout that fits in that bin\n",
      "            running local optimization...\n",
      "        packing rectangles in strip of height H=1200.0\n",
      "        packing rectangles in strip of height H=1320.0\n",
      "        packing rectangles in strip of height H=1440.0\n",
      "RectPack: Required height = 1389, required length = 2124\n",
      "            found a layout that fits in that bin\n",
      "            running local optimization...\n",
      "        packing rectangles in strip of height H=1200.0\n",
      "RectPack: Required height = 1101, required length = 2305\n",
      "            found a layout that fits in that bin\n",
      "            running local optimization...\n",
      "            the optimized layout fits the container height\n",
      "            the container length has not been improved\n",
      "        packing rectangles in strip of height H=1320.0\n",
      "RectPack: Required height = 1301, required length = 2305\n",
      "            found a layout that fits in that bin\n",
      "            running local optimization...\n",
      "        packing rectangles in strip of height H=1440.0\n",
      "RectPack: Required height = 1389, required length = 2131\n",
      "            found a layout that fits in that bin\n",
      "            running local optimization...\n",
      "Running final optimization...\n",
      "Layout could not be improved by shifting the rightmost piece !\n",
      "===============\n",
      "Problem instance: PUZZLE3\n",
      "Number of rotations: 8\n",
      "Distance matrix and Nofit Functions: 0.00s\n",
      "13 TSPs (13 QUBOs): 3.19s\n",
      "Greedy packer: 0.07s\n",
      "Rectangular packer and local optimization: 48.43s\n",
      "Final optimization: 42.19s\n",
      "Total solver time: 93.89s\n",
      "Best layout found requires a length of 1931.00\n",
      "Layout area: 1919500.00\n",
      "Minimum sheet area: 2317200.00\n",
      "Wasted area: 397700.00\n",
      "Waste percentage: 17.16%\n",
      "Ordered partition used: \n",
      "[[0, 5, 9], [1, 2, 4, 7], [3, 8, 10, 11], [6]]\n",
      "===============\n"
     ]
    },
    {
     "data": {
      "text/plain": "<Figure size 432x288 with 0 Axes>"
     },
     "metadata": {},
     "output_type": "display_data"
    },
    {
     "data": {
      "text/plain": "<Figure size 432x288 with 0 Axes>"
     },
     "metadata": {},
     "output_type": "display_data"
    },
    {
     "data": {
      "text/plain": "<Figure size 432x288 with 0 Axes>"
     },
     "metadata": {},
     "output_type": "display_data"
    },
    {
     "data": {
      "text/plain": "<Figure size 432x288 with 0 Axes>"
     },
     "metadata": {},
     "output_type": "display_data"
    },
    {
     "data": {
      "text/plain": "<Figure size 432x288 with 0 Axes>"
     },
     "metadata": {},
     "output_type": "display_data"
    },
    {
     "data": {
      "text/plain": "<Figure size 432x288 with 0 Axes>"
     },
     "metadata": {},
     "output_type": "display_data"
    },
    {
     "data": {
      "text/plain": "<Figure size 432x288 with 0 Axes>"
     },
     "metadata": {},
     "output_type": "display_data"
    },
    {
     "data": {
      "text/plain": "<Figure size 432x288 with 0 Axes>"
     },
     "metadata": {},
     "output_type": "display_data"
    },
    {
     "data": {
      "text/plain": "<Figure size 432x288 with 0 Axes>"
     },
     "metadata": {},
     "output_type": "display_data"
    },
    {
     "data": {
      "text/plain": "<Figure size 432x288 with 0 Axes>"
     },
     "metadata": {},
     "output_type": "display_data"
    },
    {
     "data": {
      "text/plain": "<Figure size 432x288 with 0 Axes>"
     },
     "metadata": {},
     "output_type": "display_data"
    },
    {
     "data": {
      "text/plain": "<Figure size 432x288 with 0 Axes>"
     },
     "metadata": {},
     "output_type": "display_data"
    },
    {
     "data": {
      "text/plain": "<Figure size 432x288 with 0 Axes>"
     },
     "metadata": {},
     "output_type": "display_data"
    },
    {
     "data": {
      "text/plain": "<Figure size 432x288 with 1 Axes>",
      "image/png": "[encoded data removed]"
     },
     "metadata": {
      "needs_background": "light"
     },
     "output_type": "display_data"
    },
    {
     "data": {
      "text/plain": "<Figure size 432x288 with 1 Axes>",
      "image/png": "[encoded data removed]"
     },
     "metadata": {
      "needs_background": "light"
     },
     "output_type": "display_data"
    }
   ],
   "source": [
    "# solve the irregular packing problem\n",
    "layout, L_min, partition_name, rectangle_layout = quantum_packer.solve()\n",
    "\n",
    "# show the solution\n",
    "if layout == None:\n",
    "    print('WARNING: NO SOLUTION FOUND FOR IRREGULAR PACKING PROBLEM ' + problem_instance)\n",
    "else:\n",
    "    rectangle_layout_title = 'Rectangle layout for ' + problem_instance\n",
    "    quantum_packer.show_layout(rectangle_layout, rectangle_layout_title, board_dimensions=(L_min, H))\n",
    "    title = 'Layout for ' + problem_instance\n",
    "    quantum_packer.show_layout(layout, title, board_dimensions=(L_min, H))"
   ],
   "metadata": {
    "collapsed": false,
    "pycharm": {
     "name": "#%%\n"
    }
   }
  },
  {
   "cell_type": "code",
   "execution_count": 7,
   "outputs": [],
   "source": [],
   "metadata": {
    "collapsed": false,
    "pycharm": {
     "name": "#%%\n"
    }
   }
  }
 ],
 "metadata": {
  "kernelspec": {
   "display_name": "Python 3",
   "language": "python",
   "name": "python3"
  },
  "language_info": {
   "codemirror_mode": {
    "name": "ipython",
    "version": 2
   },
   "file_extension": ".py",
   "mimetype": "text/x-python",
   "name": "python",
   "nbconvert_exporter": "python",
   "pygments_lexer": "ipython2",
   "version": "2.7.6"
  }
 },
 "nbformat": 4,
 "nbformat_minor": 0
}